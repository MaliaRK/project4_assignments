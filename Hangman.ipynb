{
  "nbformat": 4,
  "nbformat_minor": 0,
  "metadata": {
    "colab": {
      "provenance": [],
      "authorship_tag": "ABX9TyOvui2yNaqAaYXoYKCUjQul",
      "include_colab_link": true
    },
    "kernelspec": {
      "name": "python3",
      "display_name": "Python 3"
    },
    "language_info": {
      "name": "python"
    }
  },
  "cells": [
    {
      "cell_type": "markdown",
      "metadata": {
        "id": "view-in-github",
        "colab_type": "text"
      },
      "source": [
        "<a href=\"https://colab.research.google.com/github/MaliaRK/project4_assignments/blob/master/Hangman.ipynb\" target=\"_parent\"><img src=\"https://colab.research.google.com/assets/colab-badge.svg\" alt=\"Open In Colab\"/></a>"
      ]
    },
    {
      "cell_type": "code",
      "execution_count": 92,
      "metadata": {
        "id": "4UH1mBjjoTxY",
        "colab": {
          "base_uri": "https://localhost:8080/"
        },
        "outputId": "b15ce323-5fc2-42c6-bed6-f6d7c4292cc8"
      },
      "outputs": [
        {
          "output_type": "stream",
          "name": "stdout",
          "text": [
            "🎭 Test your intelligence to play hangman game.\n",
            "\n",
            "word:  _ _ _ _ _ _\n",
            "\n",
            "guess a letter: l\n",
            "\n",
            "✅ Correct guessed!\n",
            "\n",
            "word:  _ l _ _ _ _\n",
            "\n",
            "guess a letter: w\n",
            "\n",
            "❌ Wrong guessed! remaining chance: 5\n",
            "\n",
            "word:  _ l _ _ _ _\n",
            "\n",
            "guess a letter: df\n",
            "\n",
            "❌ Please enter only a single valid letter.\n",
            "\n",
            "guess a letter: r\n",
            "\n",
            "✅ Correct guessed!\n",
            "\n",
            "word:  _ l _ _ _ r\n",
            "\n",
            "guess a letter: e\n",
            "\n",
            "✅ Correct guessed!\n",
            "\n",
            "word:  _ l _ _ e r\n",
            "\n",
            "guess a letter: v\n",
            "\n",
            "❌ Wrong guessed! remaining chance: 4\n",
            "\n",
            "word:  _ l _ _ e r\n",
            "\n",
            "guess a letter: b\n",
            "\n",
            "❌ Wrong guessed! remaining chance: 3\n",
            "\n",
            "word:  _ l _ _ e r\n",
            "\n",
            "guess a letter: f\n",
            "\n",
            "❌ Wrong guessed! remaining chance: 2\n",
            "\n",
            "word:  _ l _ _ e r\n",
            "\n",
            "guess a letter: a\n",
            "\n",
            "✅ Correct guessed!\n",
            "\n",
            "word:  _ l a _ e r\n",
            "\n",
            "guess a letter: s\n",
            "\n",
            "❌ Wrong guessed! remaining chance: 1\n",
            "\n",
            "word:  _ l a _ e r\n",
            "\n",
            "guess a letter: b\n",
            "\n",
            "❌ Yo've already guessed this letter.\n",
            "\n",
            "guess a letter: c\n",
            "\n",
            "❌ Wrong guessed! remaining chance: 0\n",
            "\n",
            "word:  _ l a _ e r\n",
            "\n",
            "😞 ahhh: you lose! correct word was: 'player'\n"
          ]
        }
      ],
      "source": [
        "import random\n",
        "\n",
        "print(\"🎭 Test your intelligence to play hangman game.\\n\")\n",
        "\n",
        "words = ['player', 'machine', 'hospital', 'boy', 'intelligence', 'warm']\n",
        "\n",
        "word = random.choice(words)\n",
        "hidden_word = ['_'] * len(word)\n",
        "guess_letter = []\n",
        "chance = 6\n",
        "\n",
        "print(\"word: \", \" \".join(hidden_word))\n",
        "\n",
        "while chance > 0 and '_' in hidden_word:\n",
        "  letter = input(\"\\nguess a letter: \").lower()\n",
        "\n",
        "  if len(letter) != 1 or not letter.isalpha():\n",
        "    print(\"\\n❌ Please enter only a single valid letter.\")\n",
        "    continue\n",
        "\n",
        "  if letter in guess_letter:\n",
        "    print(\"\\n❌ Yo've already guessed this letter.\")\n",
        "    continue\n",
        "\n",
        "  guess_letter.append(letter)\n",
        "\n",
        "  if letter in word:\n",
        "    print(\"\\n✅ Correct guessed!\")\n",
        "    for i in range(len(word)):\n",
        "      if word[i] == letter:\n",
        "        hidden_word[i] = letter\n",
        "\n",
        "  else:\n",
        "    chance -= 1\n",
        "    print(f\"\\n❌ Wrong guessed! remaining chance: {chance}\")\n",
        "\n",
        "  print(\"\\nword: \", \" \".join(hidden_word))\n",
        "\n",
        "if '_' not in hidden_word:\n",
        "  print(\"\\n🎉 yuhhho: you win!\")\n",
        "else:\n",
        "  print(f\"\\n😞 ahhh: you lose! correct word was: '{word}'\")\n"
      ]
    }
  ]
}