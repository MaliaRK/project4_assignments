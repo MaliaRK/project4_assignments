{
  "nbformat": 4,
  "nbformat_minor": 0,
  "metadata": {
    "colab": {
      "provenance": [],
      "authorship_tag": "ABX9TyMpWye/+7kuN/EzTUmoMLPe",
      "include_colab_link": true
    },
    "kernelspec": {
      "name": "python3",
      "display_name": "Python 3"
    },
    "language_info": {
      "name": "python"
    }
  },
  "cells": [
    {
      "cell_type": "markdown",
      "metadata": {
        "id": "view-in-github",
        "colab_type": "text"
      },
      "source": [
        "<a href=\"https://colab.research.google.com/github/MaliaRK/project4_assignments/blob/master/04_dictionaries.ipynb\" target=\"_parent\"><img src=\"https://colab.research.google.com/assets/colab-badge.svg\" alt=\"Open In Colab\"/></a>"
      ]
    },
    {
      "cell_type": "markdown",
      "source": [
        "Problem 1:\n",
        "\n",
        "This program counts the number of times each number appears in a list. It uses a dictionary to keep track of the information."
      ],
      "metadata": {
        "id": "ibJF-D3cE21A"
      }
    },
    {
      "cell_type": "code",
      "execution_count": null,
      "metadata": {
        "id": "gHkoVCgWEpyD",
        "colab": {
          "base_uri": "https://localhost:8080/"
        },
        "outputId": "b7432a6a-09de-4ce1-9fa4-a194abbe0237"
      },
      "outputs": [
        {
          "output_type": "stream",
          "name": "stdout",
          "text": [
            "Enter a number: 4\n",
            "Enter a number: 4\n",
            "Enter a number: 4\n",
            "Enter a number: 5\n",
            "Enter a number: 6\n",
            "Enter a number: \n",
            "\n",
            "4 appears 3 times.\n",
            "\n",
            "5 appears 1 times.\n",
            "\n",
            "6 appears 1 times.\n"
          ]
        }
      ],
      "source": [
        "num_list = []\n",
        "while True:\n",
        "  number = input(\"Enter a number: \")\n",
        "\n",
        "  if number == \"\":\n",
        "    break\n",
        "\n",
        "  number = int(number)\n",
        "  num_list.append(number)\n",
        "\n",
        "num_dict = {}\n",
        "\n",
        "for num in num_list:\n",
        "  if num not in num_dict:\n",
        "    num_dict[num] = 1\n",
        "  else:\n",
        "    num_dict[num] += 1\n",
        "\n",
        "for num, count in num_dict.items():\n",
        "  print(f\"\\n{num} appears {count} times.\")\n"
      ]
    },
    {
      "cell_type": "markdown",
      "source": [
        "Problem 2:\n",
        "\n",
        "In this program we show an example of using dictionaries to keep track of information in a phonebook."
      ],
      "metadata": {
        "id": "sqWcJB2HeFYu"
      }
    },
    {
      "cell_type": "code",
      "source": [
        "phonebook = {}\n",
        "\n",
        "while True:\n",
        "  user_name = input(\"\\nEnter your name: \")\n",
        "  if user_name == \"\":\n",
        "    print(\"\\nProgrom stopped.\")\n",
        "    break\n",
        "  user_contact = input(\"Enter your phone number: \")\n",
        "\n",
        "  phonebook[user_name] = user_contact\n",
        "\n",
        "print(\"\\nHere is your phonebook information:\")\n",
        "\n",
        "for name, contact in phonebook.items():\n",
        "  print(f\"\\nName: {name}\\nContact: {contact}\")\n"
      ],
      "metadata": {
        "colab": {
          "base_uri": "https://localhost:8080/"
        },
        "id": "bAFvH7exepth",
        "outputId": "5823271b-fef9-451d-83dc-6909c6db0a3e"
      },
      "execution_count": null,
      "outputs": [
        {
          "output_type": "stream",
          "name": "stdout",
          "text": [
            "\n",
            "Enter your name: malia\n",
            "Enter your phone number: 3456\n",
            "\n",
            "Enter your name: sams\n",
            "Enter your phone number: 4567\n",
            "\n",
            "Enter your name: \n",
            "\n",
            "Progrom stopped.\n",
            "\n",
            "Here is your phonebook information:\n",
            "\n",
            "Name: malia\n",
            "Contact: 3456\n",
            "\n",
            "Name: sams\n",
            "Contact: 4567\n"
          ]
        }
      ]
    },
    {
      "cell_type": "markdown",
      "source": [
        "Problem 3:\n",
        "\n",
        "There's a small fruit shop nearby your house that you like to buy from. Since you buy several fruit at a time, you want to keep track of how much the fruit will cost before you go. Luckily you wrote down what fruits were available and how much one of each fruit costs.\n",
        "\n",
        "Write a program that loops through a dictionary of fruits, prompting the user to see how many of each fruit they want to buy, and then prints out the total combined cost of all of the fruits."
      ],
      "metadata": {
        "id": "WJS9YxCUBMKP"
      }
    },
    {
      "cell_type": "code",
      "source": [
        "print(\"Fruits Cost...!\")\n",
        "\n",
        "fruits = {'apple': 7, 'mango': 10, 'orange': 3, 'kiwi': 9, 'banana': 8}\n",
        "total = 0\n",
        "\n",
        "for fruit in fruits:\n",
        "  fruit_buy = int(input(f\"\\nHow many {fruit} do you want?: \"))\n",
        "  total += (fruits[fruit] * fruit_buy)\n",
        "\n",
        "print(f\"\\nYour total is ${total}\")"
      ],
      "metadata": {
        "colab": {
          "base_uri": "https://localhost:8080/"
        },
        "id": "H9XHSRV_B78f",
        "outputId": "33e33b6e-778a-4a3f-c1a0-a3f4acca190e"
      },
      "execution_count": null,
      "outputs": [
        {
          "output_type": "stream",
          "name": "stdout",
          "text": [
            "Fruits Cost...!\n",
            "\n",
            "How many apple do you want?: 4\n",
            "\n",
            "How many mango do you want?: 5\n",
            "\n",
            "How many orange do you want?: 7\n",
            "\n",
            "How many kiwi do you want?: 8\n",
            "\n",
            "How many banana do you want?: 9\n",
            "\n",
            "Your total is $243\n"
          ]
        }
      ]
    },
    {
      "cell_type": "markdown",
      "source": [
        "\n",
        "Problem 4:\n",
        "\n",
        "You want to be safe online and use different passwords for different websites. However, you are forgetful at times and want to make a program that can match which password belongs to which website without storing the actual password!\n",
        "\n",
        "This can be done via something called hashing. Hashing is when we take something and convert it into a different, unique identifier. This is done using a hash function. Luckily, there are several resources that can help us with this.\n",
        "\n",
        "For example, using a hash function called SHA256(...)"
      ],
      "metadata": {
        "id": "undxhh9EIb_x"
      }
    },
    {
      "cell_type": "code",
      "source": [
        "from hashlib import sha256\n",
        "\n",
        "def hash_password(password):\n",
        "  return sha256(password.encode()).hexdigest()\n",
        "\n",
        "\n",
        "def checking_password(email: str, password: str, stored_login: dict):\n",
        "  while True:\n",
        "    if email in stored_login:\n",
        "      if stored_login[email] == hash_password(password):\n",
        "        print(f\"\\nsuccessfully logged in!\")\n",
        "        break\n",
        "      else:\n",
        "        print(f\"\\nInvalid password. Try again or type ('exit') to stop\")\n",
        "    else:\n",
        "      print(f\"\\nAccount not found. Try again or type ('exit') to stop \")\n",
        "\n",
        "    email = input(\"\\nEnter your email: \").strip()\n",
        "    if email.lower() == \"exit\":\n",
        "      print(\"Program exited..!\")\n",
        "      return\n",
        "\n",
        "    password = input(\"\\nEnter your password: \").strip()\n",
        "    if password.lower() == \"exit\":\n",
        "      print(\"\\nProgram exited..!\")\n",
        "      return\n",
        "\n",
        "def main():\n",
        "  stored_login = {}\n",
        "\n",
        "  print(\"Create your account!\")\n",
        "\n",
        "  email = input(\"\\nEnter your email: \").strip()\n",
        "  password = input(\"\\nEnter your password: \").strip()\n",
        "\n",
        "  stored_login[email] = hash_password(password)         # making hash password using function\n",
        "  print(\"\\nAccount created successfully!\")\n",
        "\n",
        "  login = input(\"\\nWould you like to login your account? (yes/no) \")\n",
        "\n",
        "  if login.strip().lower() == \"yes\":\n",
        "    user_email = input(\"\\nEnter your email: \")\n",
        "    user_password = input(\"\\nEnter your password: \")\n",
        "\n",
        "    checking_password(user_email, user_password, stored_login)\n",
        "  else:\n",
        "    print(\"\\nThank you..Exited..!\")\n",
        "\n",
        "if __name__ == \"__main__\":\n",
        "  main()"
      ],
      "metadata": {
        "id": "PhWNAd0mJ6ah",
        "colab": {
          "base_uri": "https://localhost:8080/"
        },
        "outputId": "2cfb6fad-f962-40f7-aabf-7c8e003bfc15"
      },
      "execution_count": 28,
      "outputs": [
        {
          "output_type": "stream",
          "name": "stdout",
          "text": [
            "Create your account!\n",
            "\n",
            "Enter your email: jgbhfb@gmail.com\n",
            "\n",
            "Enter your password: 345634\n",
            "\n",
            "Account created successfully!\n",
            "\n",
            "Would you like to login your account? (yes/no) yes\n",
            "\n",
            "Enter your email: fdh\n",
            "\n",
            "Enter your password: 36\n",
            "\n",
            "Account not found. Try again or type ('exit') to stop \n",
            "\n",
            "Enter your email: jgbhfb@gmail.com\n",
            "\n",
            "Enter your password: 346\n",
            "\n",
            "Invalid password. Try again or type ('exit') to stop\n",
            "\n",
            "Enter your email: jgbhfb@gmail.com\n",
            "\n",
            "Enter your password: 345634\n",
            "\n",
            "successfully logged in!\n"
          ]
        }
      ]
    }
  ]
}