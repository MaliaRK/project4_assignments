{
  "nbformat": 4,
  "nbformat_minor": 0,
  "metadata": {
    "colab": {
      "provenance": [],
      "authorship_tag": "ABX9TyMbk7Xz+LoPtPo05Ghg0KyC",
      "include_colab_link": true
    },
    "kernelspec": {
      "name": "python3",
      "display_name": "Python 3"
    },
    "language_info": {
      "name": "python"
    }
  },
  "cells": [
    {
      "cell_type": "markdown",
      "metadata": {
        "id": "view-in-github",
        "colab_type": "text"
      },
      "source": [
        "<a href=\"https://colab.research.google.com/github/MaliaRK/project4_assignments/blob/master/03_if_statements.ipynb\" target=\"_parent\"><img src=\"https://colab.research.google.com/assets/colab-badge.svg\" alt=\"Open In Colab\"/></a>"
      ]
    },
    {
      "cell_type": "markdown",
      "source": [
        "Problem 1:\n",
        "\n",
        "Write a program that prints the first 20 even numbers. There are several correct approaches, but they all use a loop of some sort. Do no write twenty print statements"
      ],
      "metadata": {
        "id": "zR15px2rMeir"
      }
    },
    {
      "cell_type": "code",
      "source": [
        "length = range(0, 39)\n",
        "even_numbers = []\n",
        "for i in length:\n",
        "  if i % 2 == 0:\n",
        "    even_numbers.append(i)\n",
        "\n",
        "print(even_numbers, len(even_numbers))"
      ],
      "metadata": {
        "colab": {
          "base_uri": "https://localhost:8080/"
        },
        "id": "f35W6lqaQg9r",
        "outputId": "aba52f48-ca05-45ad-9ceb-cf0fc1ce5d98"
      },
      "execution_count": null,
      "outputs": [
        {
          "output_type": "stream",
          "name": "stdout",
          "text": [
            "[0, 2, 4, 6, 8, 10, 12, 14, 16, 18, 20, 22, 24, 26, 28, 30, 32, 34, 36, 38] 20\n"
          ]
        }
      ]
    },
    {
      "cell_type": "code",
      "source": [
        "even_numbers = []\n",
        "for i in range(0, 40, 2):\n",
        "  even_numbers.append(i)\n",
        "\n",
        "print(even_numbers)"
      ],
      "metadata": {
        "colab": {
          "base_uri": "https://localhost:8080/"
        },
        "id": "uq9Vtq9FsUny",
        "outputId": "cab0d0f0-1199-42a3-f173-99bb46e6936c"
      },
      "execution_count": null,
      "outputs": [
        {
          "output_type": "stream",
          "name": "stdout",
          "text": [
            "[0, 2, 4, 6, 8, 10, 12, 14, 16, 18, 20, 22, 24, 26, 28, 30, 32, 34, 36, 38]\n"
          ]
        }
      ]
    },
    {
      "cell_type": "markdown",
      "source": [
        "Problem 2:\n",
        "\n",
        "Write a program which asks a user for their age and lets them know if they can or can't vote in the three fictional countries.\n",
        "\n",
        "Your code should prompt the for their age and print whether or not they can vote in Peturksbouipo, Stanlau, or Mayengua."
      ],
      "metadata": {
        "id": "P-2vZbDqtnAz"
      }
    },
    {
      "cell_type": "code",
      "source": [
        "Peturksbouipo = 16\n",
        "Stanlau = 25\n",
        "Mayengua = 48\n",
        "\n",
        "print(\"Voting For...!\")\n",
        "\n",
        "age = int(input(\"\\nHow old are you? \"))\n",
        "\n",
        "if age < 16:\n",
        "  result = f\"\\nSorry you are not eligible for voting\"\n",
        "\n",
        "elif age >= Mayengua:\n",
        "  result = f\"\"\"\n",
        "  You can vote in Peturksbouipo where the voting age is {Peturksbouipo}.\n",
        "  You can vote in Stanlau where the voting age is {Stanlau}.\n",
        "  You can vote in Mayengua where the voting age is {Mayengua}.\n",
        "  \"\"\"\n",
        "\n",
        "elif age >= Stanlau:\n",
        "  result = f\"\"\"\n",
        "  You can vote in Peturksbouipo where the voting age is {Peturksbouipo}.\n",
        "  You can vote in Stanlau where the voting age is {Stanlau}.\n",
        "  You cannot vote in Mayengua where the voting age is {Mayengua}.\n",
        "  \"\"\"\n",
        "\n",
        "else:\n",
        "  result = f\"\"\"\n",
        "You can vote in Peturksbouipo where the voting age is {Peturksbouipo}.\n",
        "You cannot vote in Stanlau where the voting age is {Stanlau}.\n",
        "You cannot vote in Mayengua where the voting age is {Mayengua}.\"\"\"\n",
        "\n",
        "print(result)"
      ],
      "metadata": {
        "colab": {
          "base_uri": "https://localhost:8080/"
        },
        "id": "jIerfNIouMt6",
        "outputId": "70e14dc1-e7b3-4363-bd43-806097e29ca9"
      },
      "execution_count": null,
      "outputs": [
        {
          "output_type": "stream",
          "name": "stdout",
          "text": [
            "Voting For...!\n",
            "\n",
            "How old are you? 48\n",
            "\n",
            "  You can vote in Peturksbouipo where the voting age is 16.\n",
            "  You can vote in Stanlau where the voting age is 25.\n",
            "  You can vote in Mayengua where the voting age is 48.\n",
            "  \n"
          ]
        }
      ]
    },
    {
      "cell_type": "markdown",
      "source": [
        "Problem 3:\n",
        "\n",
        "Write a program that reads a year from the user and tells whether a given year is a leap year or not."
      ],
      "metadata": {
        "id": "R8n56Txl4qQF"
      }
    },
    {
      "cell_type": "code",
      "source": [
        "print(\"Find Leap Year!\")\n",
        "\n",
        "year = int(input(\"\\nEnter a year: \"))\n",
        "\n",
        "if (year % 4 == 0 and year % 100 != 0) or (year % 400 == 0):\n",
        "  print(\"\\nThat's a leap year!\")\n",
        "else:\n",
        "  print(\"\\nThat's not a leap year\")"
      ],
      "metadata": {
        "colab": {
          "base_uri": "https://localhost:8080/"
        },
        "id": "_qNQnbOe6Zsl",
        "outputId": "96ee7645-1008-45f4-cfdc-778fb06ced3d"
      },
      "execution_count": null,
      "outputs": [
        {
          "output_type": "stream",
          "name": "stdout",
          "text": [
            "Find Leap Year!\n",
            "\n",
            "Enter a year: 2016\n",
            "\n",
            "That's a leap year!\n"
          ]
        }
      ]
    },
    {
      "cell_type": "markdown",
      "source": [
        "Problem 4:\n",
        "\n",
        "Write a program which asks the user how tall they are and prints whether or not they're taller than a pre-specified minimum height."
      ],
      "metadata": {
        "id": "2ERWLwpp8z61"
      }
    },
    {
      "cell_type": "code",
      "source": [
        "print(\"Tall enough to ride!\")\n",
        "\n",
        "while True:\n",
        "  height = input(\"\\nHow tall are you? \")\n",
        "\n",
        "  if height == \"\":\n",
        "    print(\"Program stopped!\")\n",
        "    break\n",
        "\n",
        "  height = int(height)\n",
        "\n",
        "  if height >= 50:\n",
        "    print(\"You're tall enough to ride!\")\n",
        "  else:\n",
        "    print(\"You're not tall enough to ride, but maybe next year!\")"
      ],
      "metadata": {
        "colab": {
          "base_uri": "https://localhost:8080/"
        },
        "id": "-vrV9t6l9WL1",
        "outputId": "64d1e30f-7166-4dc9-fa5f-9de457635e18"
      },
      "execution_count": null,
      "outputs": [
        {
          "output_type": "stream",
          "name": "stdout",
          "text": [
            "Tall enough to ride!\n",
            "\n",
            "How tall are you? 34\n",
            "You're not tall enough to ride, but maybe next year!\n",
            "\n",
            "How tall are you? 56\n",
            "You're tall enough to ride!\n",
            "\n",
            "How tall are you? \n",
            "Program stopped!\n"
          ]
        }
      ]
    },
    {
      "cell_type": "markdown",
      "source": [
        "Problem 5:\n",
        "\n",
        "Print 10 random numbers in the range 1 to 100."
      ],
      "metadata": {
        "id": "LnxuwtTEBN8H"
      }
    },
    {
      "cell_type": "code",
      "source": [
        "import random\n",
        "\n",
        "print(\"Generate 10 Random Number between 1 to 100!\\n\")\n",
        "\n",
        "random_number = []\n",
        "\n",
        "while len(random_number) != 10:\n",
        "  value = random.randint(1, 100)\n",
        "  random_number.append(value)\n",
        "\n",
        "print(random_number)"
      ],
      "metadata": {
        "colab": {
          "base_uri": "https://localhost:8080/"
        },
        "id": "A3omRV_vBd3G",
        "outputId": "e9a2fc6c-2188-482a-f3da-8bc8c454078f"
      },
      "execution_count": null,
      "outputs": [
        {
          "output_type": "stream",
          "name": "stdout",
          "text": [
            "Generate 10 Random Number between 1 to 100!\n",
            "\n",
            "[8, 57, 65, 70, 46, 37, 45, 66, 39, 28]\n"
          ]
        }
      ]
    }
  ]
}