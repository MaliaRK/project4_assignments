{
  "nbformat": 4,
  "nbformat_minor": 0,
  "metadata": {
    "colab": {
      "provenance": [],
      "authorship_tag": "ABX9TyOjR9YqqPDregRBfouW9EvW",
      "include_colab_link": true
    },
    "kernelspec": {
      "name": "python3",
      "display_name": "Python 3"
    },
    "language_info": {
      "name": "python"
    }
  },
  "cells": [
    {
      "cell_type": "markdown",
      "metadata": {
        "id": "view-in-github",
        "colab_type": "text"
      },
      "source": [
        "<a href=\"https://colab.research.google.com/github/MaliaRK/project4_assignments/blob/master/02_intermediate_Control_Flow_for_Console.ipynb\" target=\"_parent\"><img src=\"https://colab.research.google.com/assets/colab-badge.svg\" alt=\"Open In Colab\"/></a>"
      ]
    },
    {
      "cell_type": "markdown",
      "source": [
        "Problem Control Flow for Console: \"High Low Game:\"\n",
        "\n",
        "We want you to gain more experience working with control flow and Booleans in Python. To do this, we are going to have you develop a game! The game is called High-Low and the way it's played goes as follows:\n",
        "\n",
        "Two numbers are generated from 1 to 100 (inclusive on both ends): one for you and one for a computer, who will be your opponent. You can see your number, but not the computer's!\n",
        "\n",
        "You make a guess, saying your number is either higher than or lower than the computer's number\n",
        "\n",
        "If your guess matches the truth (ex. you guess your number is higher, and then your number is actually higher than the computer's), you get a point!\n",
        "\n",
        "These steps make up one round of the game. The game is over after all rounds have been played."
      ],
      "metadata": {
        "id": "cxAZdznly3gQ"
      }
    },
    {
      "cell_type": "code",
      "execution_count": 41,
      "metadata": {
        "colab": {
          "base_uri": "https://localhost:8080/"
        },
        "id": "kt_9xx6sy2yR",
        "outputId": "8956aeb6-a9b2-4ca2-f6cc-101d624e7f58"
      },
      "outputs": [
        {
          "output_type": "stream",
          "name": "stdout",
          "text": [
            "Welcome to High-Low Game..!\tTotal Round: (5)\n",
            "\n",
            "Round: 1\n",
            "Your number is: 83\n",
            "🤔 Guess! what is computer number ('higher' or 'lower')? 345\n",
            "Invalid input! Please enter 'higher' or 'lower'.\n",
            "\n",
            "🤔 Guess! what is computer number ('higher' or 'lower')? higher\n",
            "❌ Wrong! Computer number was: 32.\n",
            "\n",
            "Round: 2\n",
            "Your number is: 80\n",
            "🤔 Guess! what is computer number ('higher' or 'lower')? lower\n",
            "✅ Correct! Computer number was: 33.\n",
            "\n",
            "Round: 3\n",
            "Your number is: 25\n",
            "🤔 Guess! what is computer number ('higher' or 'lower')? lower\n",
            "✅ Correct! Computer number was: 24.\n",
            "\n",
            "Round: 4\n",
            "Your number is: 92\n",
            "🤔 Guess! what is computer number ('higher' or 'lower')? higher\n",
            "❌ Wrong! Computer number was: 22.\n",
            "\n",
            "Round: 5\n",
            "Your number is: 57\n",
            "🤔 Guess! what is computer number ('higher' or 'lower')? higher\n",
            "✅ Correct! Computer number was: 64.\n",
            "\n",
            "🎯 Your Final Score: 3 out of 5.\n",
            "Thanks for playing!\n"
          ]
        }
      ],
      "source": [
        "import random\n",
        "\n",
        "print(\"Welcome to High-Low Game..!\\tTotal Round: (5)\")\n",
        "\n",
        "user_score = 0\n",
        "\n",
        "for attempt in range(1, 6):\n",
        "  num_for_user = random.randint(1, 100)\n",
        "  num_for_computer = random.randint(1, 100)\n",
        "\n",
        "  print(f\"\\nRound: {attempt}\")\n",
        "  print(f\"Your number is: {num_for_user}\")\n",
        "\n",
        "  while True:\n",
        "    user_guess = input(\"🤔 Guess! what is computer number ('higher' or 'lower')? \").strip().lower()\n",
        "    if user_guess in ['higher', 'lower']:\n",
        "      break\n",
        "    print(\"Invalid input! Please enter 'higher' or 'lower'.\\n\")\n",
        "\n",
        "  if (user_guess == \"higher\" and num_for_computer > num_for_user) or (user_guess == \"lower\" and num_for_computer < num_for_user):\n",
        "      print(f\"✅ Correct! Computer number was: {num_for_computer}.\")\n",
        "      user_score +=1\n",
        "  else:\n",
        "    print(f\"❌ Wrong! Computer number was: {num_for_computer}.\")\n",
        "\n",
        "print(f\"\\n🎯 Your Final Score: {user_score} out of 5.\")\n",
        "print(\"Thanks for playing!\")"
      ]
    }
  ]
}