{
  "nbformat": 4,
  "nbformat_minor": 0,
  "metadata": {
    "colab": {
      "provenance": [],
      "authorship_tag": "ABX9TyPL7HhQNW47OwY+R39u43Vh",
      "include_colab_link": true
    },
    "kernelspec": {
      "name": "python3",
      "display_name": "Python 3"
    },
    "language_info": {
      "name": "python"
    }
  },
  "cells": [
    {
      "cell_type": "markdown",
      "metadata": {
        "id": "view-in-github",
        "colab_type": "text"
      },
      "source": [
        "<a href=\"https://colab.research.google.com/github/MaliaRK/project4_assignments/blob/master/02_intermediate_Lists_and_Dicts.ipynb\" target=\"_parent\"><img src=\"https://colab.research.google.com/assets/colab-badge.svg\" alt=\"Open In Colab\"/></a>"
      ]
    },
    {
      "cell_type": "markdown",
      "source": [
        "Problem #1: List Practice\n",
        "\n",
        "Create a list called fruit_list that contains the following fruits: # 'apple', 'banana', 'orange', 'grape', 'pineapple'.\n",
        "\n",
        "* Print the length of the list.\n",
        "\n",
        "\n",
        "* Add 'mango' at the end of the list.\n",
        "\n",
        "\n",
        "* Print the updated list."
      ],
      "metadata": {
        "id": "Fzf1zhxFZuDM"
      }
    },
    {
      "cell_type": "code",
      "execution_count": null,
      "metadata": {
        "colab": {
          "base_uri": "https://localhost:8080/"
        },
        "id": "6zR3EIhUZbWQ",
        "outputId": "b11aef4a-26ce-4f65-8b37-8c05a2b3bc10"
      },
      "outputs": [
        {
          "output_type": "stream",
          "name": "stdout",
          "text": [
            "5\n",
            "['apple', 'banana', 'orange', 'grape', 'pineapple', 'mango']\n"
          ]
        }
      ],
      "source": [
        "fruit_list = ['apple', 'banana', 'orange', 'grape', 'pineapple']\n",
        "\n",
        "print(len(fruit_list))             # length of the list.\n",
        "fruit_list.append('mango')         # Add 'mango' at the end of the list.\n",
        "print(fruit_list)                  # Print the updated list."
      ]
    },
    {
      "cell_type": "markdown",
      "source": [
        "Problem #2: Index Game\n",
        "As a warmup, read this code and play the game a few times. Use this mental model of the list:\n",
        "\n",
        "Objective:\n",
        "Create a Python program that helps you practice accessing and manipulating elements in a list. This exercise will help you get comfortable with indexing, slicing, and modifying list elements."
      ],
      "metadata": {
        "id": "hKZNyA8NbHOr"
      }
    },
    {
      "cell_type": "markdown",
      "source": [
        "Initialize a List:\n",
        "Create a list with at least 5 different elements. They can be numbers, strings, or a mix of both."
      ],
      "metadata": {
        "id": "Wx69fQRbat7f"
      }
    },
    {
      "cell_type": "code",
      "source": [
        "mix_list = ['python', 13, 67, 'agentic ai', 7]"
      ],
      "metadata": {
        "id": "NeU_iQ_Qa4Q-"
      },
      "execution_count": 17,
      "outputs": []
    },
    {
      "cell_type": "markdown",
      "source": [
        "Accessing Elements:\n",
        "Write a function that:\n",
        "\n",
        "Accepts a list and an index as inputs.\n",
        "Returns the element at the specified index.\n",
        "If the index is out of range, return an appropriate message."
      ],
      "metadata": {
        "id": "H9PT0ya1azV-"
      }
    },
    {
      "cell_type": "code",
      "source": [
        "index = int(input(\"Enter s number between 0 to 4: \"))\n",
        "\n",
        "def access_element(mix_list: list, index: int):\n",
        "  if 0 <= index < len(mix_list):\n",
        "      return f\"\\nElement on this index is: {mix_list[index]}\"            # Accessing Elements:\n",
        "  else:\n",
        "    return \"\\nError! Invalid index.\"\n",
        "\n",
        "print(access_element(mix_list, index))\n"
      ],
      "metadata": {
        "colab": {
          "base_uri": "https://localhost:8080/"
        },
        "id": "iwZtmZKpbLmy",
        "outputId": "f1885607-6013-4711-cdfc-02e425d86814"
      },
      "execution_count": 18,
      "outputs": [
        {
          "output_type": "stream",
          "name": "stdout",
          "text": [
            "Enter s number between 0 to 4: 3\n",
            "\n",
            "Element on this index is: agentic ai\n"
          ]
        }
      ]
    },
    {
      "cell_type": "markdown",
      "source": [
        "Modifying Elements:\n",
        "Write a function that:\n",
        "\n",
        "Accepts a list, an index, and a new value as inputs.\n",
        "Replaces the element at the specified index with the new value.\n",
        "If the index is out of range, return an appropriate message."
      ],
      "metadata": {
        "id": "gIRqGmJtalDX"
      }
    },
    {
      "cell_type": "code",
      "source": [
        "index = int(input(\"Enter a number between 0 to 4: \"))\n",
        "new_value = input(\"Enter a new value: \")\n",
        "\n",
        "def modify_list(mix_list: list, index: int, new_value: str):\n",
        "  if 0 <= index < len(mix_list):\n",
        "    print(f\"\\nBefore replace: {mix_list}\")\n",
        "    mix_list[index] = new_value\n",
        "    return f\"\\nAfter replace: {mix_list}\"\n",
        "  else:\n",
        "    return \"\\nError! Invalid index.\"\n",
        "\n",
        "print(modify_list(mix_list, index, new_value))\n"
      ],
      "metadata": {
        "colab": {
          "base_uri": "https://localhost:8080/"
        },
        "id": "fpwa_3D1bEL-",
        "outputId": "af79bdb7-385b-4651-db6b-7d0ca4f62946"
      },
      "execution_count": 15,
      "outputs": [
        {
          "output_type": "stream",
          "name": "stdout",
          "text": [
            "Enter a number between 0 to 4: 3\n",
            "Enter a new value: typescript\n",
            "\n",
            "Before replace: ['python', 13, 'malia', 'agentic ai', 7]\n",
            "\n",
            "After replace: ['python', 13, 'malia', 'typescript', 7]\n"
          ]
        }
      ]
    },
    {
      "cell_type": "markdown",
      "source": [
        "Slicing the List:\n",
        "Write a function that:\n",
        "\n",
        "Accepts a list, a start index, and an end index as inputs.\n",
        "Returns a new list containing the elements from the start index up to (but not including) the end index.\n",
        "Handles cases where the indices are out of range."
      ],
      "metadata": {
        "id": "9lm8IWC9Ijbd"
      }
    },
    {
      "cell_type": "code",
      "source": [
        "start_index = int(input(\"Enter a start index nmber between 0 to 4: \"))\n",
        "end_index = int(input(\"Enter a end index nmber between 0 to 4: \"))\n",
        "\n",
        "def slicing_list(mix_list: list, start_index: int, end_index: str):\n",
        "  print(f\"\\nBefore slicing: {mix_list}\")\n",
        "  if 0 <= start_index < len(mix_list):\n",
        "    slice_element = mix_list[start_index:end_index]\n",
        "    return f\"\\nAfter slicing: {slice_element}\"\n",
        "  else:\n",
        "    return \"\\nError! Invalid index.\"\n",
        "\n",
        "print(slicing_list(mix_list, start_index, end_index))"
      ],
      "metadata": {
        "colab": {
          "base_uri": "https://localhost:8080/"
        },
        "id": "_XgLAnf4I6jd",
        "outputId": "ac939398-d485-4899-c187-0607e7887f7d"
      },
      "execution_count": 26,
      "outputs": [
        {
          "output_type": "stream",
          "name": "stdout",
          "text": [
            "Enter a start index nmber between 0 to 4: 2\n",
            "Enter a end index nmber between 0 to 4: 7\n",
            "\n",
            "Before slicing: ['python', 13, 67, 'typescript', 7]\n",
            "\n",
            "After slicing: [67, 'typescript', 7]\n"
          ]
        }
      ]
    },
    {
      "cell_type": "markdown",
      "source": [
        "Game Interaction:\n",
        "Create a simple text-based game that:\n",
        "\n",
        "Prompts the user to select an operation (access, modify, slice).\n",
        "Asks for the necessary inputs (index, new value, etc.).\n",
        "Displays the result and the updated list."
      ],
      "metadata": {
        "id": "748Dj8w1NdzM"
      }
    },
    {
      "cell_type": "code",
      "source": [
        "print(\"List Game Interaction..!\")\n",
        "print(\"\\nList: \", mix_list)\n",
        "print(\"\\nWhat do you want to do with given list?\")\n",
        "\n",
        "option = input(\"\\nselect an operation (access, modify, slice): \").strip()\n",
        "if option.lower() == \"access\":\n",
        "  index = int(input(\"\\nEnter a number between 0 to 4: \"))\n",
        "  result = access_element(mix_list, index)\n",
        "\n",
        "elif option.lower() == \"modify\":\n",
        "  index = int(input(\"\\nEnter a number between 0 to 4: \"))\n",
        "  new_value = input(\"Enter a new value: \")\n",
        "  result = modify_list(mix_list, index, new_value)\n",
        "\n",
        "elif option.lower() == \"slice\":\n",
        "  start_index = int(input(\"\\nEnter a start index nmber between 0 to 4: \"))\n",
        "  end_index = int(input(\"Enter a end index nmber between 0 to 4: \"))\n",
        "  result = slicing_list(mix_list, start_index, end_index)\n",
        "\n",
        "print(result)"
      ],
      "metadata": {
        "colab": {
          "base_uri": "https://localhost:8080/"
        },
        "id": "RYRfvu6CNmH0",
        "outputId": "3a5d5846-bfdf-4860-ecc5-63ce0f21e596"
      },
      "execution_count": 31,
      "outputs": [
        {
          "output_type": "stream",
          "name": "stdout",
          "text": [
            "List Game Interaction..!\n",
            "\n",
            "List:  ['python', 13, 67, 'modify', 7]\n",
            "\n",
            "What do you want to do with given list?\n",
            "\n",
            "select an operation (access, modify, slice): slice\n",
            "\n",
            "Enter a start index nmber between 0 to 4: 1\n",
            "Enter a end index nmber between 0 to 4: 3\n",
            "\n",
            "Before slicing: ['python', 13, 67, 'modify', 7]\n",
            "\n",
            "After slicing: [13, 67]\n"
          ]
        }
      ]
    }
  ]
}