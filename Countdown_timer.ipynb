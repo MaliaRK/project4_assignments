{
  "nbformat": 4,
  "nbformat_minor": 0,
  "metadata": {
    "colab": {
      "provenance": [],
      "authorship_tag": "ABX9TyOZ93lJNYZm2B33O2m0LkEj",
      "include_colab_link": true
    },
    "kernelspec": {
      "name": "python3",
      "display_name": "Python 3"
    },
    "language_info": {
      "name": "python"
    }
  },
  "cells": [
    {
      "cell_type": "markdown",
      "metadata": {
        "id": "view-in-github",
        "colab_type": "text"
      },
      "source": [
        "<a href=\"https://colab.research.google.com/github/MaliaRK/project4_assignments/blob/master/Countdown_timer.ipynb\" target=\"_parent\"><img src=\"https://colab.research.google.com/assets/colab-badge.svg\" alt=\"Open In Colab\"/></a>"
      ]
    },
    {
      "cell_type": "code",
      "execution_count": 32,
      "metadata": {
        "colab": {
          "base_uri": "https://localhost:8080/"
        },
        "id": "wMvjPurvNuSE",
        "outputId": "06c8e028-bb1d-4408-cef4-1dcf9132441d"
      },
      "outputs": [
        {
          "output_type": "stream",
          "name": "stdout",
          "text": [
            "⏰ 00:00\n",
            "\n",
            "🎉⏳ Timer completed. ⏳🎉\n"
          ]
        }
      ],
      "source": [
        "from IPython.display import clear_output\n",
        "import time\n",
        "\n",
        "print(\"⏳ Countdown Timer...⏱\")\n",
        "\n",
        "set_time = int(input(\"\\n⏲️ Set Your Time in seconds: \"))\n",
        "\n",
        "while set_time >= 0:\n",
        "  mins, sec = divmod(set_time, 60)\n",
        "  timer = '⏰ {:02d}:{:02d}'.format(mins, sec)\n",
        "\n",
        "  clear_output(wait=True)\n",
        "  print(timer)\n",
        "\n",
        "  time.sleep(1)\n",
        "  set_time -= 1\n",
        "\n",
        "print(\"\\n🎉⏳ Timer completed. ⏳🎉\")\n"
      ]
    }
  ]
}