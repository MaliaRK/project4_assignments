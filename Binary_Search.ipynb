{
  "nbformat": 4,
  "nbformat_minor": 0,
  "metadata": {
    "colab": {
      "provenance": [],
      "authorship_tag": "ABX9TyNLzo6anrkNuGOarC1fZBws",
      "include_colab_link": true
    },
    "kernelspec": {
      "name": "python3",
      "display_name": "Python 3"
    },
    "language_info": {
      "name": "python"
    }
  },
  "cells": [
    {
      "cell_type": "markdown",
      "metadata": {
        "id": "view-in-github",
        "colab_type": "text"
      },
      "source": [
        "<a href=\"https://colab.research.google.com/github/MaliaRK/project4_assignments/blob/master/Binary_Search.ipynb\" target=\"_parent\"><img src=\"https://colab.research.google.com/assets/colab-badge.svg\" alt=\"Open In Colab\"/></a>"
      ]
    },
    {
      "cell_type": "code",
      "execution_count": null,
      "metadata": {
        "id": "MOf89eAo_b1K",
        "colab": {
          "base_uri": "https://localhost:8080/"
        },
        "outputId": "a59a3403-e1cb-4702-a8e3-605acf0fb19f"
      },
      "outputs": [
        {
          "output_type": "stream",
          "name": "stdout",
          "text": [
            "Target 58 found at index 9\n"
          ]
        }
      ],
      "source": [
        "          #    0  1  2  3  4   5   6   7   8   9   10  11  12  13  14\n",
        "sorted_list = [2, 5, 7, 9, 10, 15, 18, 30, 45, 58, 62, 70, 88, 94, 100]\n",
        "target = 58\n",
        "\n",
        "def binary_search(lst, target):\n",
        "  left = lst[0]\n",
        "  right = len(lst) -1\n",
        "\n",
        "  while left <= right:\n",
        "    mid = (left + right) // 2\n",
        "    if lst[mid] == target:\n",
        "      return mid\n",
        "\n",
        "    elif lst[mid] < target:\n",
        "      left = mid + 1\n",
        "\n",
        "    else:\n",
        "      right = mid - 1\n",
        "  return -1\n",
        "\n",
        "result = binary_search(sorted_list, target)\n",
        "\n",
        "if result != -1:\n",
        "  print(f\"Target {target} found at index {result}\")\n",
        "else:\n",
        "  print(f\"Target {target} not found\")"
      ]
    }
  ]
}