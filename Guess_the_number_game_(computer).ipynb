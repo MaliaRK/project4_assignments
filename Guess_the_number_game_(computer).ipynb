{
  "nbformat": 4,
  "nbformat_minor": 0,
  "metadata": {
    "colab": {
      "provenance": [],
      "authorship_tag": "ABX9TyPU1b2G4SOrJtRfyQ/H6kdP",
      "include_colab_link": true
    },
    "kernelspec": {
      "name": "python3",
      "display_name": "Python 3"
    },
    "language_info": {
      "name": "python"
    }
  },
  "cells": [
    {
      "cell_type": "markdown",
      "metadata": {
        "id": "view-in-github",
        "colab_type": "text"
      },
      "source": [
        "<a href=\"https://colab.research.google.com/github/MaliaRK/project4_assignments/blob/master/Guess_the_number_game_(computer).ipynb\" target=\"_parent\"><img src=\"https://colab.research.google.com/assets/colab-badge.svg\" alt=\"Open In Colab\"/></a>"
      ]
    },
    {
      "cell_type": "code",
      "execution_count": 10,
      "metadata": {
        "colab": {
          "base_uri": "https://localhost:8080/"
        },
        "id": "i2naQsRhNdF_",
        "outputId": "b827fb8f-86b5-404c-d7fe-1816c58874c4"
      },
      "outputs": [
        {
          "output_type": "stream",
          "name": "stdout",
          "text": [
            "\n",
            "🎯 Let's play a guessing game with computer...🏌️‍♂️\n",
            "\n",
            "is 36 Too high (H), Too low (L) or Correct (C)? h\n",
            "\n",
            "is 5 Too high (H), Too low (L) or Correct (C)? l\n",
            "\n",
            "is 35 Too high (H), Too low (L) or Correct (C)? h\n",
            "\n",
            "is 18 Too high (H), Too low (L) or Correct (C)? l\n",
            "\n",
            "is 27 Too high (H), Too low (L) or Correct (C)? l\n",
            "\n",
            "is 29 Too high (H), Too low (L) or Correct (C)? l\n",
            "\n",
            "is 30 Too high (H), Too low (L) or Correct (C)? l\n",
            "\n",
            "is 32 Too high (H), Too low (L) or Correct (C)? h\n",
            "\n",
            "is 31 Too high (H), Too low (L) or Correct (C)? c\n",
            "\n",
            "🎉Yaayyy! You guessed a correct number 31.\n"
          ]
        }
      ],
      "source": [
        "import random\n",
        "print(\"\\n🎯 Let's play a guessing game with computer...🏌️‍♂️\")\n",
        "\n",
        "low = 1\n",
        "high = 100\n",
        "feedback = \"\"\n",
        "\n",
        "while feedback != 'c':\n",
        "  guess = random.randint(low, high)\n",
        "  feedback = input(f\"\\nis {guess} Too high (H), Too low (L) or Correct (C)? \").lower()\n",
        "\n",
        "  if feedback == 'h':\n",
        "    high = guess - 1\n",
        "  elif feedback == 'l':\n",
        "    low = guess + 1\n",
        "\n",
        "print(f\"\\n🎉Yaayyy! You guessed a correct number {guess}.\")\n"
      ]
    }
  ]
}