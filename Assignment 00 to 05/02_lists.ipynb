{
  "nbformat": 4,
  "nbformat_minor": 0,
  "metadata": {
    "colab": {
      "provenance": [],
      "authorship_tag": "ABX9TyPzoVFL7KmtsoKWk7YLujYT",
      "include_colab_link": true
    },
    "kernelspec": {
      "name": "python3",
      "display_name": "Python 3"
    },
    "language_info": {
      "name": "python"
    }
  },
  "cells": [
    {
      "cell_type": "markdown",
      "metadata": {
        "id": "view-in-github",
        "colab_type": "text"
      },
      "source": [
        "<a href=\"https://colab.research.google.com/github/MaliaRK/project4_assignments/blob/master/02_lists.ipynb\" target=\"_parent\"><img src=\"https://colab.research.google.com/assets/colab-badge.svg\" alt=\"Open In Colab\"/></a>"
      ]
    },
    {
      "cell_type": "markdown",
      "source": [
        "Problem 1:\n",
        "\n",
        "Write a function that takes a list of numbers and returns the sum of those numbers."
      ],
      "metadata": {
        "id": "HAnYtY-JIXs8"
      }
    },
    {
      "cell_type": "code",
      "execution_count": null,
      "metadata": {
        "colab": {
          "base_uri": "https://localhost:8080/"
        },
        "id": "ET9ESAd-IQ-6",
        "outputId": "dee2ff54-716f-4c79-a7c5-ac96b7119d80"
      },
      "outputs": [
        {
          "output_type": "stream",
          "name": "stdout",
          "text": [
            "Enter a list of numbers to sum up: 3,4,5,5,56,6\n",
            "\n",
            "The sum of numbers is: 79\n"
          ]
        }
      ],
      "source": [
        "def sum():\n",
        "  nums = input(\"Enter a list of numbers to sum up: \")\n",
        "  nums_split = nums.split(',')\n",
        "  total = 0\n",
        "\n",
        "  for num in nums_split:\n",
        "    num = int(num)\n",
        "    total += num\n",
        "\n",
        "  print(f\"\\nThe sum of numbers is: {total}\")\n",
        "\n",
        "sum()"
      ]
    },
    {
      "cell_type": "markdown",
      "source": [
        "Problem 2:\n",
        "\n",
        "Write a program that doubles each element in a list of numbers."
      ],
      "metadata": {
        "id": "2UNbUF-HUoG5"
      }
    },
    {
      "cell_type": "code",
      "source": [
        "nums = input(\"Enter a list of numbers: \")\n",
        "nums_split = nums.split(',')\n",
        "product = []\n",
        "\n",
        "for num in nums_split:\n",
        "  num = int(num)\n",
        "  product.append(num * 2)\n",
        "\n",
        "print(f\"\\nThe numbers get doubles:\\n\\nOriginal: {nums}\\nDoubles: {product}\")"
      ],
      "metadata": {
        "colab": {
          "base_uri": "https://localhost:8080/"
        },
        "id": "9CiyzUu6U2cx",
        "outputId": "487933b5-1693-49fd-b968-a2cf91d9d4e6"
      },
      "execution_count": null,
      "outputs": [
        {
          "output_type": "stream",
          "name": "stdout",
          "text": [
            "Enter a list of numbers: 5,6,7,8\n",
            "\n",
            "The numbers get doubles:\n",
            "\n",
            "Original: 5,6,7,8\n",
            "Doubles: [10, 12, 14, 16]\n"
          ]
        }
      ]
    },
    {
      "cell_type": "markdown",
      "source": [
        "Problem 3:\n",
        "\n",
        "Implement an 'eraser' on a canvas.\n",
        "\n",
        "The canvas consists of a grid of blue 'cells' which are drawn as rectangles on the screen. We then create an eraser rectangle which, when dragged around the canvas, sets all of the rectangles it is in contact with to white."
      ],
      "metadata": {
        "id": "u4gmaNjLXb6p"
      }
    },
    {
      "cell_type": "code",
      "source": [],
      "metadata": {
        "id": "Wk6wbcOAvJdM"
      },
      "execution_count": null,
      "outputs": []
    },
    {
      "cell_type": "markdown",
      "source": [
        "Problem 4:\n",
        "\n",
        "In the information flow lesson, we discussed using a variable storing a number as an example of scope. We saw that changes we made to the number inside a function did not stay unless we returned it. This is true for what we call immutable data types which include things like numbers and strings.\n",
        "\n",
        "However, there are also mutable data types where changes stay even if we don't return anything. Some examples of mutable data types are lists and dictionaries. This means that you should be mindful when modifying lists and dictionaries within helper functions since their changes stay whether or not you return them.\n",
        "\n",
        "To see this in action, fill out the add_three_copies(...) function which takes a list and some data and then adds three copies of the data to the list. Don't return anything and see what happens! Compare this process to the x = change(x) example and note the differences."
      ],
      "metadata": {
        "id": "Irate_BrvJ2C"
      }
    },
    {
      "cell_type": "code",
      "source": [
        "x = 10\n",
        "\n",
        "def flow_of_data(num: int):\n",
        "  num = num + 5\n",
        "  return num\n",
        "\n",
        "print('after: ', flow_of_data(x))    # change number inside a function\n",
        "print(\"before: \", x)                  # due to immutable data type number remains unchange"
      ],
      "metadata": {
        "colab": {
          "base_uri": "https://localhost:8080/"
        },
        "id": "_SPRQRsfwxrK",
        "outputId": "fbb2d87d-33f7-47f9-e3e0-526a996f92fc"
      },
      "execution_count": null,
      "outputs": [
        {
          "output_type": "stream",
          "name": "stdout",
          "text": [
            "after:  15\n",
            "before:  10\n"
          ]
        }
      ]
    },
    {
      "cell_type": "code",
      "source": [
        "list_before = []              # it will be change after running function due to mutability.\n",
        "print(\"before:\", list_before)\n",
        "\n",
        "def add_three_copies():\n",
        "  data = input(\"\\nEnter a message: \")\n",
        "  list_before.append(\", \".join([data] * 3))\n",
        "\n",
        "add_three_copies()\n",
        "print(\"\\nafter:\",list_before)                # changed without return"
      ],
      "metadata": {
        "colab": {
          "base_uri": "https://localhost:8080/"
        },
        "id": "M6n67QZsy4z7",
        "outputId": "a801abe3-77d4-4668-8788-6d5e7cb2adf8"
      },
      "execution_count": null,
      "outputs": [
        {
          "output_type": "stream",
          "name": "stdout",
          "text": [
            "before: []\n",
            "\n",
            "Enter a message: malia\n",
            "\n",
            "after: ['malia, malia, malia']\n"
          ]
        }
      ]
    },
    {
      "cell_type": "markdown",
      "source": [
        "Problem 5:\n",
        "\n",
        "Fill out the function get_first_element(lst) which takes in a list lst as a parameter and prints the first element in the list. The list is guaranteed to be non-empty."
      ],
      "metadata": {
        "id": "SdMm_EKi6W8i"
      }
    },
    {
      "cell_type": "code",
      "source": [
        "lst = ['first_element', 'second_element', 'third_element']\n",
        "\n",
        "def get_first_element(lst):\n",
        "  return lst[0]\n",
        "\n",
        "print(get_first_element(lst))"
      ],
      "metadata": {
        "colab": {
          "base_uri": "https://localhost:8080/"
        },
        "id": "vawr-LSV7Exi",
        "outputId": "b5b0e306-b7fd-40e7-c019-a6025b5b8e1e"
      },
      "execution_count": null,
      "outputs": [
        {
          "output_type": "stream",
          "name": "stdout",
          "text": [
            "first_element\n"
          ]
        }
      ]
    },
    {
      "cell_type": "markdown",
      "source": [
        "Problem 6:\n",
        "\n",
        "Fill out the function get_last_element(lst) which takes in a list lst as a parameter and prints the last element in the list. The list is guaranteed to be non-empty, but there are no guarantees on its length."
      ],
      "metadata": {
        "id": "Lxuow_th9GWy"
      }
    },
    {
      "cell_type": "code",
      "source": [
        "lst = ['first_element', 'second_element', 'last_element']\n",
        "\n",
        "def get_last_element(lst):\n",
        "  return lst[-1]\n",
        "\n",
        "print(get_last_element(lst))"
      ],
      "metadata": {
        "colab": {
          "base_uri": "https://localhost:8080/"
        },
        "id": "zI7rJyWd9PrZ",
        "outputId": "57144b92-6c49-4409-84f2-5f296e193a79"
      },
      "execution_count": null,
      "outputs": [
        {
          "output_type": "stream",
          "name": "stdout",
          "text": [
            "last_element\n"
          ]
        }
      ]
    },
    {
      "cell_type": "markdown",
      "source": [
        "Problem 7:\n",
        "\n",
        "Write a program which continuously asks the user to enter values which are added one by one into a list. When the user presses enter without typing anything, print the list."
      ],
      "metadata": {
        "id": "fbkx8YkC9iO5"
      }
    },
    {
      "cell_type": "code",
      "source": [
        "lst = []\n",
        "\n",
        "def making_list():\n",
        "  while True:\n",
        "    value = input(\"Enter a value: \")\n",
        "    if value == \"\":\n",
        "      break\n",
        "    lst.append(value)\n",
        "  print(\"\\nHere's the list: \", lst)\n",
        "\n",
        "making_list()"
      ],
      "metadata": {
        "colab": {
          "base_uri": "https://localhost:8080/"
        },
        "id": "gylL0LUJ9sIR",
        "outputId": "71b3e5e3-d787-4112-cd66-cde66fc08e59"
      },
      "execution_count": null,
      "outputs": [
        {
          "output_type": "stream",
          "name": "stdout",
          "text": [
            "Enter a value: python\n",
            "Enter a value: generative AI\n",
            "Enter a value: agentic AI\n",
            "Enter a value: \n",
            "\n",
            "Here's the list:  ['python', 'generative AI', 'agentic AI']\n"
          ]
        }
      ]
    },
    {
      "cell_type": "markdown",
      "source": [
        "Problem 8:\n",
        "\n",
        "Fill out the function shorten(lst) which removes elements from the end of lst, which is a list, and prints each item it removes until lst is MAX_LENGTH items long. If lst is already shorter than MAX_LENGTH you should leave it unchanged. We've written a main() function for you which gets a list and passes it into your function once you run the program. For the autograder to pass you will need MAX_LENGTH to be 3, but feel free to change it around to test your program."
      ],
      "metadata": {
        "id": "NixOQ3CYG-ah"
      }
    },
    {
      "cell_type": "code",
      "source": [
        "MAX_LENGTH = 3\n",
        "print(\"Maximum length is: \", MAX_LENGTH)\n",
        "lst = list(range(1, 11))\n",
        "\n",
        "def shorten(lst: list):\n",
        "  while len(lst) > MAX_LENGTH:\n",
        "    print(\"\\n Removed: \", lst.pop())\n",
        "\n",
        "  return lst\n",
        "\n",
        "print(\"\\nBefore shorten: \", lst)\n",
        "print(\"\\nAfter shorten: \", shorten(lst))"
      ],
      "metadata": {
        "colab": {
          "base_uri": "https://localhost:8080/"
        },
        "id": "xC7gJgIiHUrB",
        "outputId": "3e725f50-4bc2-40cb-e2dc-f1135d5f1474"
      },
      "execution_count": null,
      "outputs": [
        {
          "output_type": "stream",
          "name": "stdout",
          "text": [
            "Maximum length is:  3\n",
            "\n",
            "Before shorten:  [1, 2, 3, 4, 5, 6, 7, 8, 9, 10]\n",
            "\n",
            " Removed:  10\n",
            "\n",
            " Removed:  9\n",
            "\n",
            " Removed:  8\n",
            "\n",
            " Removed:  7\n",
            "\n",
            " Removed:  6\n",
            "\n",
            " Removed:  5\n",
            "\n",
            " Removed:  4\n",
            "\n",
            "After shorten:  [1, 2, 3]\n"
          ]
        }
      ]
    }
  ]
}