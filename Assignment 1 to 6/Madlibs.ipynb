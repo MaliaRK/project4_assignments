{
  "nbformat": 4,
  "nbformat_minor": 0,
  "metadata": {
    "colab": {
      "provenance": [],
      "authorship_tag": "ABX9TyPTkL7lXW+aB+wlOqeVBd78",
      "include_colab_link": true
    },
    "kernelspec": {
      "name": "python3",
      "display_name": "Python 3"
    },
    "language_info": {
      "name": "python"
    }
  },
  "cells": [
    {
      "cell_type": "markdown",
      "metadata": {
        "id": "view-in-github",
        "colab_type": "text"
      },
      "source": [
        "<a href=\"https://colab.research.google.com/github/MaliaRK/project4_assignments/blob/master/Madlibs.ipynb\" target=\"_parent\"><img src=\"https://colab.research.google.com/assets/colab-badge.svg\" alt=\"Open In Colab\"/></a>"
      ]
    },
    {
      "cell_type": "code",
      "source": [
        "print(\"Fill in the blanks ___ and get ready to laugh🤣\")\n",
        "\n",
        "name = input(\"\\nEnter your name: \")\n",
        "friend_name = input(\"\\n👫 Enter your friend name: \")\n",
        "place = input(\"\\n🏝 Enter place: \")\n",
        "object_name = input(\"\\n👓 Enter object: \")\n",
        "household_item = input(\"\\n🏡 Enter household item: \")\n",
        "adjective = input(\"\\n🗣 Enter adjective: \")\n",
        "animal = input(\"\\n🙉 Enter animal name: \")\n",
        "number = input(\"\\n🖋 Enter a number: \")\n",
        "food = input(\"\\n🥧 Enter food: \")\n",
        "verb = input(\"\\n🤷‍♂️ Enter verb: \")\n",
        "silly_word = input(\"\\n😎 Enter silly word: \")\n",
        "noun = input(\"\\nEnter a noun: \")\n",
        "\n",
        "print(\"\\n\\nNow Read & Laugh🤣😂\")\n",
        "\n",
        "print(f\"\"\"\\nOne day, {name} and {friend_name}👫 set off to find the lost treasure of {place}🏝. Armed with a {object_name}👓 and a map on {household_item}🏡,\n",
        "\n",
        "they entered a {adjective}🗣 jungle.\n",
        "\n",
        "Suddenly, a {adjective} {animal}🙉 blocked their path. \"Solve my riddle!\" it roared.\n",
        "\n",
        "\"What has {number}🖋 legs, eats {food}🥧, and loves to {verb}🤷‍♂️?\"\n",
        "\n",
        "Thinking fast, {name} shouted, \"{silly_word}😎!\"\n",
        "\n",
        "The creature {verb}ed and handed them a shiny {object_name}🌙. Excited, they opened the treasure chest—only to find {object_name} inside.\n",
        "\n",
        "\"Well,\" sighed {friend_name}👫, \"at least it’s not {noun}!\"\"\")"
      ],
      "metadata": {
        "colab": {
          "base_uri": "https://localhost:8080/"
        },
        "id": "L8DfkxE__ZM1",
        "outputId": "08964f2b-be11-4458-908f-4bcbfc292895"
      },
      "execution_count": 8,
      "outputs": [
        {
          "output_type": "stream",
          "name": "stdout",
          "text": [
            "Fill in the blanks ___ and get ready to laugh🤣\n",
            "\n",
            "Enter your name: malia\n",
            "\n",
            "👫 Enter your friend name: rida\n",
            "\n",
            "🏝 Enter place: karachi\n",
            "\n",
            "👓 Enter object: desk\n",
            "\n",
            "🏡 Enter household item: bulb\n",
            "\n",
            "🗣 Enter adjective: tall\n",
            "\n",
            "🙉 Enter animal name: cat\n",
            "\n",
            "🖋 Enter a number: 6\n",
            "\n",
            "🥧 Enter food: biryani\n",
            "\n",
            "🤷‍♂️ Enter verb: walk\n",
            "\n",
            "😎 Enter silly word: awaiee\n",
            "\n",
            "Enter a noun: machine\n",
            "\n",
            "Now Read & Laugh🤣😂\n",
            "\n",
            "One day, malia and rida👫 set off to find the lost treasure of karachi🏝. Armed with a desk👓 and a map on bulb🏡,\n",
            "\n",
            "they entered a tall🗣 jungle.\n",
            "\n",
            "Suddenly, a tall cat🙉 blocked their path. \"Solve my riddle!\" it roared.\n",
            "\n",
            "\"What has 6🖋 legs, eats biryani🥧, and loves to walk🤷‍♂️?\"\n",
            "\n",
            "Thinking fast, malia shouted, \"awaiee😎!\"\n",
            "\n",
            "The creature walked and handed them a shiny desk🌙. Excited, they opened the treasure chest—only to find desk inside.\n",
            "\n",
            "\"Well,\" sighed rida👫, \"at least it’s not machine!\n"
          ]
        }
      ]
    }
  ]
}