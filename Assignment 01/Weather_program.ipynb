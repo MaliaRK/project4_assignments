{
  "nbformat": 4,
  "nbformat_minor": 0,
  "metadata": {
    "colab": {
      "provenance": [],
      "authorship_tag": "ABX9TyPy2M8gdMPwhWWRyUOKP4gV",
      "include_colab_link": true
    },
    "kernelspec": {
      "name": "python3",
      "display_name": "Python 3"
    },
    "language_info": {
      "name": "python"
    }
  },
  "cells": [
    {
      "cell_type": "markdown",
      "metadata": {
        "id": "view-in-github",
        "colab_type": "text"
      },
      "source": [
        "<a href=\"https://colab.research.google.com/github/MaliaRK/project4_assignments/blob/master/Weather_program.ipynb\" target=\"_parent\"><img src=\"https://colab.research.google.com/assets/colab-badge.svg\" alt=\"Open In Colab\"/></a>"
      ]
    },
    {
      "cell_type": "code",
      "execution_count": null,
      "metadata": {
        "id": "1SF16UvHzaW3",
        "colab": {
          "base_uri": "https://localhost:8080/"
        },
        "outputId": "c621f018-7711-416e-b03f-28bf847eb5eb"
      },
      "outputs": [
        {
          "output_type": "stream",
          "name": "stdout",
          "text": [
            "\n",
            "Weather Widget Program..!\n",
            "\n",
            "Enter city name: karachi\n",
            "\n",
            "City: Karachi\n",
            "Time: 2025-04-14 17:53\n",
            "Temperature: 33.0°C 91.4°F\n",
            "Condition: Sunny ☀️\n",
            "Wind Speed: 22.8mph\n",
            "Humidity: 47%\n",
            "Cloud: 0\n"
          ]
        }
      ],
      "source": [
        "import requests\n",
        "import json\n",
        "\n",
        "print(\"\\nWeather Widget Program..!\")\n",
        "\n",
        "api_key = '71415edf2bf54642bf6172659242309'\n",
        "base_url = f\"http://api.weatherapi.com/v1/current.json?key={api_key}\"\n",
        "\n",
        "city = input(\"\\nEnter city name: \")\n",
        "\n",
        "request_url = f\"{base_url}&q={city}&aqi=no\"\n",
        "\n",
        "response = requests.get(request_url)\n",
        "\n",
        "if response.status_code == 200:\n",
        "  data = response.json()\n",
        "\n",
        "  icons = {\n",
        "      'Sunny': '☀️',\n",
        "      'Cloudy': '☁️',\n",
        "      'Partly Cloudy': '⛅',\n",
        "      'Rain': '🌧️',\n",
        "      'Thunderstorm': '⛈️',\n",
        "      'Patchy rain nearby': '🌧️',\n",
        "      'Light rain': '🌧️'\n",
        "  }\n",
        "\n",
        "  city = data['location']['name']\n",
        "  time = data['location']['localtime']\n",
        "  temp_c = data['current'][\"temp_c\"]\n",
        "  temp_f = data['current'][\"temp_f\"]\n",
        "  condition = data['current'][\"condition\"]['text']\n",
        "  icon = icons.get(condition, '⛅')\n",
        "  wind_speed = data['current'][\"wind_mph\"]\n",
        "  humidity = data['current'][\"humidity\"]\n",
        "  cloud = data['current'][\"cloud\"]\n",
        "  print(f\"\\nCity: {city}\\nTime: {time}\\nTemperature: {temp_c}°C {temp_f}°F\\nCondition: {condition} {icon}\\nWind Speed: {wind_speed}mph\\nHumidity: {humidity}%\\nCloud: {cloud}\")\n",
        "else:\n",
        "  print(\"\\nError fetching details.\")\n"
      ]
    }
  ]
}