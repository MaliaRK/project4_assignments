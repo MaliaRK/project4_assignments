{
  "nbformat": 4,
  "nbformat_minor": 0,
  "metadata": {
    "colab": {
      "provenance": [],
      "authorship_tag": "ABX9TyMtun15uE4WFuVyZ059i+pe",
      "include_colab_link": true
    },
    "kernelspec": {
      "name": "python3",
      "display_name": "Python 3"
    },
    "language_info": {
      "name": "python"
    }
  },
  "cells": [
    {
      "cell_type": "markdown",
      "metadata": {
        "id": "view-in-github",
        "colab_type": "text"
      },
      "source": [
        "<a href=\"https://colab.research.google.com/github/MaliaRK/project4_assignments/blob/master/Guess_the_number_game_(user).ipynb\" target=\"_parent\"><img src=\"https://colab.research.google.com/assets/colab-badge.svg\" alt=\"Open In Colab\"/></a>"
      ]
    },
    {
      "cell_type": "code",
      "execution_count": 3,
      "metadata": {
        "colab": {
          "base_uri": "https://localhost:8080/"
        },
        "id": "AbUBWzSdKzAj",
        "outputId": "08ac9dda-3c82-4fd8-8e68-3e6c829d3f04"
      },
      "outputs": [
        {
          "output_type": "stream",
          "name": "stdout",
          "text": [
            "\n",
            "🎯Number Guessing Game... 🤔(You have only 7 Attempts.)\n",
            "\n",
            "type 'exit' in order to quit.\n",
            "\n",
            "\n",
            "Guess a number between 1 to 100: 5\n",
            "\n",
            "📉Too low! Try again.\n",
            "\n",
            "\n",
            "🔁Remaining Attempt: 6\n",
            "\n",
            "Guess a number between 1 to 100: 5\n",
            "\n",
            "📉Too low! Try again.\n",
            "\n",
            "\n",
            "🔁Remaining Attempt: 5\n",
            "\n",
            "Guess a number between 1 to 100: 3\n",
            "\n",
            "📉Too low! Try again.\n",
            "\n",
            "\n",
            "🔁Remaining Attempt: 4\n",
            "\n",
            "Guess a number between 1 to 100: 544\n",
            "\n",
            "Please guess a number between 1 to 100\n",
            "\n",
            "\n",
            "Guess a number between 1 to 100: 54\n",
            "\n",
            "📉Too low! Try again.\n",
            "\n",
            "\n",
            "🔁Remaining Attempt: 3\n",
            "\n",
            "Guess a number between 1 to 100: 89\n",
            "\n",
            "📈Too high! Try again.\n",
            "\n",
            "\n",
            "🔁Remaining Attempt: 2\n",
            "\n",
            "Guess a number between 1 to 100: 87\n",
            "\n",
            "📈Too high! Try again.\n",
            "\n",
            "\n",
            "🔁Remaining Attempt: 1\n",
            "\n",
            "Guess a number between 1 to 100: 56\n",
            "\n",
            "📉Too low! Try again.\n",
            "\n",
            "\n",
            "🔁Remaining Attempt: 0\n",
            "\n",
            "❌Sorry! You've run out of attempt. \n",
            "\n",
            "Correct number was 72.\n"
          ]
        }
      ],
      "source": [
        "import random\n",
        "\n",
        "print(f\"\\n🎯Number Guessing Game... 🤔(You have only 7 Attempts.)\")\n",
        "print(\"\\ntype 'exit' in order to quit.\\n\")\n",
        "\n",
        "random_number = random.randint(1, 100)\n",
        "length = 7\n",
        "\n",
        "while length:\n",
        "  user_input = input(\"\\nGuess a number between 1 to 100: \")\n",
        "\n",
        "  if user_input.lower() == 'exit':\n",
        "    print('🚪program exited!')\n",
        "    break\n",
        "\n",
        "  try:\n",
        "    num = int(user_input)\n",
        "\n",
        "    if num < 0 or num > 100:\n",
        "      print('\\nPlease guess a number between 1 to 100\\n')\n",
        "      continue\n",
        "\n",
        "    if num == random_number:\n",
        "        print('\\n🎉Congratulations! You guessed a correct number.\\n')\n",
        "        break\n",
        "\n",
        "    elif num < random_number:\n",
        "      print('\\n📉Too low! Try again.\\n')\n",
        "    else:\n",
        "      print('\\n📈Too high! Try again.\\n')\n",
        "\n",
        "    length -= 1\n",
        "    print(f\"\\n🔁Remaining Attempt: {length}\")\n",
        "\n",
        "    if length == 0:\n",
        "      print(f\"\\n❌Sorry! You've run out of attempt. \\n\\nCorrect number was {random_number}.\")\n",
        "\n",
        "  except:\n",
        "    print('\\n🚨Invalid input\\n')"
      ]
    }
  ]
}