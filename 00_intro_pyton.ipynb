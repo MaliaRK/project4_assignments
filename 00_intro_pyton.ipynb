{
  "nbformat": 4,
  "nbformat_minor": 0,
  "metadata": {
    "colab": {
      "provenance": [],
      "authorship_tag": "ABX9TyN1dTbsV1MykFwUMqsSAGiK",
      "include_colab_link": true
    },
    "kernelspec": {
      "name": "python3",
      "display_name": "Python 3"
    },
    "language_info": {
      "name": "python"
    }
  },
  "cells": [
    {
      "cell_type": "markdown",
      "metadata": {
        "id": "view-in-github",
        "colab_type": "text"
      },
      "source": [
        "<a href=\"https://colab.research.google.com/github/MaliaRK/project4_assignments/blob/master/00_intro_pyton.ipynb\" target=\"_parent\"><img src=\"https://colab.research.google.com/assets/colab-badge.svg\" alt=\"Open In Colab\"/></a>"
      ]
    },
    {
      "cell_type": "markdown",
      "source": [
        "problem1 :\n",
        "\n",
        "Write a Python program that takes two integer inputs from the user and calculates their sum. The program should perform the following tasks:\n",
        "\n",
        "Prompt the user to enter the first number.\n",
        "\n",
        "Read the input and convert it to an integer.\n",
        "\n",
        "Prompt the user to enter the second number.\n",
        "\n",
        "Read the input and convert it to an integer.\n",
        "\n",
        "Calculate the sum of the two numbers.\n",
        "\n",
        "Print the total sum with an appropriate message."
      ],
      "metadata": {
        "id": "dUDqdpYIXyn9"
      }
    },
    {
      "cell_type": "code",
      "execution_count": 15,
      "metadata": {
        "id": "HPneq7TOOIJZ",
        "colab": {
          "base_uri": "https://localhost:8080/"
        },
        "outputId": "7ec3ad11-2286-4179-b404-469d0df0e1a2"
      },
      "outputs": [
        {
          "output_type": "stream",
          "name": "stdout",
          "text": [
            "Addition program!\n",
            "\n",
            "Enter first number: f\n",
            "\n",
            "invalid input. please enter only in digits\n",
            "\n",
            "Enter first number: 9.0\n",
            "\n",
            "invalid input. please enter only in digits\n",
            "\n",
            "Enter first number: 3\n",
            "\n",
            "Enter second number: 2\n",
            "\n",
            "The sum of two numbers is: 5\n"
          ]
        }
      ],
      "source": [
        "print(\"Addition program!\")\n",
        "num1 = input(\"\\nEnter first number: \")\n",
        "\n",
        "while not num1.isdigit():            # ensure user input must be in digits\n",
        "  print(\"\\ninvalid input. please enter only in digits\")\n",
        "  num1 = input(\"\\nEnter first number: \")\n",
        "\n",
        "num2 = input(\"\\nEnter second number: \")\n",
        "\n",
        "while not num2.isdigit():            # ensure user input must be in digits\n",
        "  print(\"\\ninvalid input. please enter only in digits\")\n",
        "  num2 = input(\"\\nEnter second number: \")\n",
        "\n",
        "result = int(num1) + int(num2)       # convert input to an integer\n",
        "\n",
        "print(f\"\\nThe sum of two numbers is: {result}\")\n"
      ]
    },
    {
      "cell_type": "markdown",
      "source": [
        "problem 2:\n",
        "\n",
        "Write a program which asks the user what their favorite animal is, and then always responds with \"My favorite animal is also ___!\" (the blank should be filled in with the user-inputted animal, of course)."
      ],
      "metadata": {
        "id": "50xrhZ7AWfA9"
      }
    },
    {
      "cell_type": "code",
      "source": [
        "user_input = input(\"What's your favorite animal? \")\n",
        "\n",
        "while not user_input.isalpha():\n",
        "  print(\"\\nInvalid input. only characters are allowed.\")\n",
        "  user_input = input(\"\\nWhat's your favorite animal? \")\n",
        "\n",
        "print(f\"\\nMy favorite animal is also {user_input}!\")"
      ],
      "metadata": {
        "colab": {
          "base_uri": "https://localhost:8080/"
        },
        "id": "NFFAcUK5Wz4t",
        "outputId": "7cbfb6b4-ef77-4543-c2f2-6fdedbc7e5f4"
      },
      "execution_count": 18,
      "outputs": [
        {
          "output_type": "stream",
          "name": "stdout",
          "text": [
            "What's your favorite animal? 87\n",
            "\n",
            "Invalid input. only characters are allowed.\n",
            "\n",
            "What's your favorite animal? &^\n",
            "\n",
            "Invalid input. only characters are allowed.\n",
            "\n",
            "What's your favorite animal? ds\n",
            "\n",
            "My favorite animal is also ds!\n"
          ]
        }
      ]
    },
    {
      "cell_type": "markdown",
      "source": [
        "Problem 3:\n",
        "\n",
        "Write a program which prompts the user for a temperature in Fahrenheit (this can be a number with decimal places!) and outputs the temperature converted to Celsius."
      ],
      "metadata": {
        "id": "UhoPrSzMYk_E"
      }
    },
    {
      "cell_type": "code",
      "source": [
        "print(\"Temperature conversion program!\")\n",
        "\n",
        "fahrenheit = input(\"\\nEnter temperature in Fahrenheit: \")\n",
        "\n",
        "while not fahrenheit.isnumeric():\n",
        "  print(\"\\nInvalid input. only numbers are allowed.\")\n",
        "  fahrenheit = input(\"\\nEnter temperature in Fahrenheit: \")\n",
        "\n",
        "celcius = (float(fahrenheit) -32) * 5.0 / 9.0\n",
        "\n",
        "print(f\"\\nTemperature: {fahrenheit}°F = {celcius}°C\")"
      ],
      "metadata": {
        "colab": {
          "base_uri": "https://localhost:8080/"
        },
        "id": "BU7uVTKRY5WE",
        "outputId": "e2e92e5c-0855-4175-d2ab-3f6cff03d5aa"
      },
      "execution_count": 21,
      "outputs": [
        {
          "output_type": "stream",
          "name": "stdout",
          "text": [
            "Temperature conversion program!\n",
            "\n",
            "Enter temperature in Fahrenheit: d\n",
            "\n",
            "Invalid input. only numbers are allowed.\n",
            "\n",
            "Enter temperature in Fahrenheit: 3\n",
            "\n",
            "Temperature: 3°F = -16.11111111111111°C\n"
          ]
        }
      ]
    },
    {
      "cell_type": "markdown",
      "source": [
        "Problem 4:\n",
        "\n",
        "Write a program to solve this age-related riddle!\n",
        "\n",
        "Anton, Beth, Chen, Drew, and Ethan are all friends. Their ages are as follows:\n",
        "\n",
        "Anton is 21 years old.\n",
        "\n",
        "Beth is 6 years older than Anton.\n",
        "\n",
        "Chen is 20 years older than Beth.\n",
        "\n",
        "Drew is as old as Chen's age plus Anton's age.\n",
        "\n",
        "Ethan is the same age as Chen."
      ],
      "metadata": {
        "id": "0K4sV5YpbIOs"
      }
    },
    {
      "cell_type": "code",
      "source": [
        "print(\"age-related riddle!\")\n",
        "anton_age = 21\n",
        "beth_age = 6 + anton_age\n",
        "chen_age = 20 + beth_age\n",
        "drew_age = chen_age + anton_age\n",
        "ethan_age = chen_age\n",
        "\n",
        "print(f\"\\nAnton is {anton_age} years old.\")\n",
        "print(f\"\\nBeth is {beth_age} years old.\")\n",
        "print(f\"\\nChen is {chen_age} years old.\")\n",
        "print(f\"\\nDrew is {drew_age} years old.\")\n",
        "print(f\"\\nEthan is {ethan_age} years old.\")"
      ],
      "metadata": {
        "colab": {
          "base_uri": "https://localhost:8080/"
        },
        "id": "H5PlGsVbb3bN",
        "outputId": "207543e4-bb7a-4109-f953-2e05772fbf41"
      },
      "execution_count": 28,
      "outputs": [
        {
          "output_type": "stream",
          "name": "stdout",
          "text": [
            "age-related riddle!\n",
            "\n",
            "Anton is 21 years old.\n",
            "\n",
            "Beth is 27 years old.\n",
            "\n",
            "Chen is 47 years old.\n",
            "\n",
            "Drew is 68 years old.\n",
            "\n",
            "Ethan is 47 years old.\n"
          ]
        }
      ]
    },
    {
      "cell_type": "markdown",
      "source": [
        "Problem 5:\n",
        "\n",
        "Prompt the user to enter the lengths of each side of a triangle and then calculate and print the perimeter of the triangle (the sum of all of the side lengths)."
      ],
      "metadata": {
        "id": "88EZ0tbohoha"
      }
    },
    {
      "cell_type": "code",
      "source": [
        "print(\"Triangle Perimeter!\")\n",
        "\n",
        "side1 = input(\"\\nWhat is the length of side 1: \")\n",
        "side2 = input(\"\\nWhat is the length of side 2: \")\n",
        "side3 = input(\"\\nWhat is the length of side 3: \")\n",
        "\n",
        "perimeter = float(side1) + float(side2) + float(side3)\n",
        "\n",
        "print(f\"\\nThe perimeter of the triangle is {perimeter}\")"
      ],
      "metadata": {
        "colab": {
          "base_uri": "https://localhost:8080/"
        },
        "id": "0_dfnOwZh_va",
        "outputId": "a478af1f-5d68-464d-b14e-85377ab58894"
      },
      "execution_count": 30,
      "outputs": [
        {
          "output_type": "stream",
          "name": "stdout",
          "text": [
            "Triangle Perimeter!\n",
            "\n",
            "What is the length of side 1: 5\n",
            "\n",
            "What is the length of side 2: 8.9\n",
            "\n",
            "What is the length of side 3: 6.8\n",
            "\n",
            "The perimeter of the triangle is 20.7\n"
          ]
        }
      ]
    },
    {
      "cell_type": "markdown",
      "source": [
        "Problem 6:\n",
        "\n",
        "Ask the user for a number and print its square (the product of the number times itself)."
      ],
      "metadata": {
        "id": "vfAYeeDojmyq"
      }
    },
    {
      "cell_type": "code",
      "source": [
        "print(\"Square Number!\")\n",
        "\n",
        "num = input(\"\\nEnter a number: \")\n",
        "num = float(num)\n",
        "square = num * num\n",
        "print(f\"\\n{num} squared is {square}\")"
      ],
      "metadata": {
        "colab": {
          "base_uri": "https://localhost:8080/"
        },
        "id": "fh7MpzQTjvyq",
        "outputId": "9701d3db-87bd-423f-d016-1af968f1cba1"
      },
      "execution_count": 33,
      "outputs": [
        {
          "output_type": "stream",
          "name": "stdout",
          "text": [
            "Square Number!\n",
            "\n",
            "Enter a number: 5\n",
            "\n",
            "5.0 squared is 25.0\n"
          ]
        }
      ]
    }
  ]
}