{
  "nbformat": 4,
  "nbformat_minor": 0,
  "metadata": {
    "colab": {
      "provenance": [],
      "authorship_tag": "ABX9TyNKvkF9g8TL0pT7sZXRs8tu",
      "include_colab_link": true
    },
    "kernelspec": {
      "name": "python3",
      "display_name": "Python 3"
    },
    "language_info": {
      "name": "python"
    }
  },
  "cells": [
    {
      "cell_type": "markdown",
      "metadata": {
        "id": "view-in-github",
        "colab_type": "text"
      },
      "source": [
        "<a href=\"https://colab.research.google.com/github/MaliaRK/project4_assignments/blob/master/02_intermediate_Intro_to_Python.ipynb\" target=\"_parent\"><img src=\"https://colab.research.google.com/assets/colab-badge.svg\" alt=\"Open In Colab\"/></a>"
      ]
    },
    {
      "cell_type": "markdown",
      "source": [
        "Problem Intro to Python: \"Planetary Weight Calculator\"\n",
        "\n",
        "Milestone #1:\n",
        "\n",
        "When programming Ingenuity, one of the things that NASA engineers need to account for is the fact that due to the weaker gravity on Mars, an Earthling's weight on Mars is 37.8% of their weight on Earth. Write a Python program that prompts an Earthling to enter their weight on Earth and prints their calculated weight on Mars.\n",
        "\n",
        "The output should be rounded to two decimal places when necessary. Python has a round function which can help you with this. You pass in the value to be rounded and the number of decimal places to use. In the example below, the number 3.1415926 is rounded to 2 decimal places which is 3.14."
      ],
      "metadata": {
        "id": "S89ARsBVQt3H"
      }
    },
    {
      "cell_type": "code",
      "execution_count": 10,
      "metadata": {
        "colab": {
          "base_uri": "https://localhost:8080/"
        },
        "id": "K5EaWAPEQjRb",
        "outputId": "f558c585-23e4-4d02-d46d-603837f73920"
      },
      "outputs": [
        {
          "output_type": "stream",
          "name": "stdout",
          "text": [
            "Enter earth weight: 67\n",
            "\n",
            "Your weight on Mars would be 25.33\n"
          ]
        }
      ],
      "source": [
        "Mars_gravity_factor = 0.378\n",
        "Earth_weight = float(input(\"Enter earth weight: \"))\n",
        "mars_weight = round(Mars_gravity_factor * Earth_weight, 2)\n",
        "print(f\"\\nYour weight on Mars would be {mars_weight}\")"
      ]
    },
    {
      "cell_type": "markdown",
      "source": [
        "Milestone #2:\n",
        "\n",
        "Adding in All Planets\n",
        "Mars is not the only planet in our solar system with its own unique gravity. In fact, each planet has a different gravitational constant, which affects how much an object would weigh on that planet. Below is a list of the constants for each planet compared to Earth's gravity:\n",
        "\n",
        "Mercury: 37.6%\n",
        "\n",
        "Venus: 88.9%\n",
        "\n",
        "Mars: 37.8%\n",
        "\n",
        "Jupiter: 236.0%\n",
        "\n",
        "Saturn: 108.1%\n",
        "\n",
        "Uranus: 81.5%\n",
        "\n",
        "Neptune: 114.0%"
      ],
      "metadata": {
        "id": "ApiwVNapSS-u"
      }
    },
    {
      "cell_type": "code",
      "source": [
        "planets = {\n",
        "    'Mercury': 0.376,\n",
        "\n",
        "    'Venus': 0.889,\n",
        "\n",
        "    'Mars': 0.378,\n",
        "\n",
        "    'Jupiter': 2.36,\n",
        "\n",
        "    'Saturn': 1.081,\n",
        "\n",
        "    'Uranus': 0.815,\n",
        "\n",
        "    'Neptune': 1.14,\n",
        "}\n",
        "\n",
        "Earth_weight = float(input(\"Enter earth weight: \"))\n",
        "planet = input(\"\\nEnter a planet: \").title()\n",
        "\n",
        "gravity_factor = planets.get(planet)\n",
        "\n",
        "if planet:\n",
        "  planet_weight = round(planets[planet] * Earth_weight, 2)\n",
        "  print(f\"\\nThe equivalent weight on {planet}: {planet_weight}\")\n",
        "else:\n",
        "    print(\"\\nInvalid planet name! Please enter a correct planet.\")"
      ],
      "metadata": {
        "colab": {
          "base_uri": "https://localhost:8080/"
        },
        "id": "bJkY7VyvSZKd",
        "outputId": "597f4f85-47c1-4b54-86e8-bba60d5bd483"
      },
      "execution_count": 9,
      "outputs": [
        {
          "output_type": "stream",
          "name": "stdout",
          "text": [
            "Enter earth weight: 45\n",
            "\n",
            "Enter a planet: neptune\n",
            "\n",
            "The equivalent weight on Neptune: 51.3\n"
          ]
        }
      ]
    }
  ]
}