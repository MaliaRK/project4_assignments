{
  "nbformat": 4,
  "nbformat_minor": 0,
  "metadata": {
    "colab": {
      "provenance": [],
      "authorship_tag": "ABX9TyNULIEYYBuua39w6zlRzAAs",
      "include_colab_link": true
    },
    "kernelspec": {
      "name": "python3",
      "display_name": "Python 3"
    },
    "language_info": {
      "name": "python"
    }
  },
  "cells": [
    {
      "cell_type": "markdown",
      "metadata": {
        "id": "view-in-github",
        "colab_type": "text"
      },
      "source": [
        "<a href=\"https://colab.research.google.com/github/MaliaRK/project4_assignments/blob/master/Rock_Paper_Scissors.ipynb\" target=\"_parent\"><img src=\"https://colab.research.google.com/assets/colab-badge.svg\" alt=\"Open In Colab\"/></a>"
      ]
    },
    {
      "cell_type": "code",
      "execution_count": 13,
      "metadata": {
        "colab": {
          "base_uri": "https://localhost:8080/"
        },
        "id": "2aZs5hTRZf0p",
        "outputId": "54819919-e80a-4be9-f15e-b0f689ea7546"
      },
      "outputs": [
        {
          "output_type": "stream",
          "name": "stdout",
          "text": [
            "\n",
            "Welcome to Rock⛏, Paper📝, Scissor✂ Game... (type 'exit' to quit game.)\n",
            "\n",
            "Choose one of them ['Rock', 'Paper', 'Scissor']: rock\n",
            "\n",
            "🖥️Player B chose: Paper.\n",
            "\n",
            "😯Ohh! you lose. Paper beat Rock\n",
            "\n",
            "Choose one of them ['Rock', 'Paper', 'Scissor']: fdg\n",
            "\n",
            "Invalid choice.please choose one of them: (Rock, Paper, Scissor)\n",
            "\n",
            "Choose one of them ['Rock', 'Paper', 'Scissor']: paper\n",
            "\n",
            "🖥️Player B chose: Paper.\n",
            "\n",
            "🤝It's Tie\n",
            "\n",
            "Choose one of them ['Rock', 'Paper', 'Scissor']: scissor\n",
            "\n",
            "🖥️Player B chose: Scissor.\n",
            "\n",
            "🤝It's Tie\n",
            "\n",
            "Choose one of them ['Rock', 'Paper', 'Scissor']: rock\n",
            "\n",
            "🖥️Player B chose: Scissor.\n",
            "\n",
            "🎉Yay! you win. Rock beat Scissor\n",
            "\n",
            "Choose one of them ['Rock', 'Paper', 'Scissor']: exit\n",
            "\n",
            "Exiting game....🚪\n"
          ]
        }
      ],
      "source": [
        "import random\n",
        "print(\"\\nWelcome to Rock⛏, Paper📝, Scissor✂ Game... (type 'exit' to quit game.)\")\n",
        "\n",
        "options = ['Rock', 'Paper', 'Scissor']\n",
        "\n",
        "player_A = 'user'\n",
        "player_B = 'computer'\n",
        "condition = True\n",
        "\n",
        "while condition:\n",
        "  player_A = input(f\"\\nChoose one of them {options}: \").title()\n",
        "\n",
        "  if player_A == 'Exit':\n",
        "    print(\"\\nExiting game....🚪\")\n",
        "    break\n",
        "\n",
        "  if player_A not in options:\n",
        "    print(\"\\nInvalid choice.please choose one of them: (Rock, Paper, Scissor)\")\n",
        "    continue\n",
        "\n",
        "  player_B = random.choice(options)\n",
        "\n",
        "  print(f\"\\n🖥️Player B chose: {player_B}.\")\n",
        "\n",
        "  if player_A == player_B:\n",
        "    print(\"\\n🤝It's Tie\")\n",
        "\n",
        "  elif player_A == 'Rock' and player_B == 'Paper':\n",
        "    print(\"\\n😯Ohh! you lose. Paper beat Rock\")\n",
        "\n",
        "  elif player_A == 'Rock' and player_B == 'Scissor':\n",
        "    print(\"\\n🎉Yay! you win. Rock beat Scissor\")\n",
        "\n",
        "  elif player_A == 'Paper' and player_B == 'Rock':\n",
        "    print(\"\\n🎉Yay! you win. Paper beat Rock\")\n",
        "\n",
        "  elif player_A == 'Paper' and player_B == 'Scissor':\n",
        "    print(\"\\n😯Ohh! you lose. Scissor beat Paper\")\n",
        "\n",
        "  elif player_A == 'Scissor' and player_B == 'Rock':\n",
        "    print(\"\\n😯Ohh! you lose. Rock beat Scissor\")\n",
        "\n",
        "  elif player_A == 'Scissor' and player_B == 'Paper':\n",
        "    print(\"\\n🎉Yay! you win. Scissor beat Paper\")\n"
      ]
    }
  ]
}