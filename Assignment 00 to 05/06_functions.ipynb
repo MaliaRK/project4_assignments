{
  "nbformat": 4,
  "nbformat_minor": 0,
  "metadata": {
    "colab": {
      "provenance": [],
      "authorship_tag": "ABX9TyNkCEyRD4nqACQ3nTCgu6yV",
      "include_colab_link": true
    },
    "kernelspec": {
      "name": "python3",
      "display_name": "Python 3"
    },
    "language_info": {
      "name": "python"
    }
  },
  "cells": [
    {
      "cell_type": "markdown",
      "metadata": {
        "id": "view-in-github",
        "colab_type": "text"
      },
      "source": [
        "<a href=\"https://colab.research.google.com/github/MaliaRK/project4_assignments/blob/master/06_functions.ipynb\" target=\"_parent\"><img src=\"https://colab.research.google.com/assets/colab-badge.svg\" alt=\"Open In Colab\"/></a>"
      ]
    },
    {
      "cell_type": "markdown",
      "source": [
        "Problem 1:\n",
        "\n",
        "Write a function that takes two numbers and finds the average between the two."
      ],
      "metadata": {
        "id": "6s_365DS-MmS"
      }
    },
    {
      "cell_type": "code",
      "execution_count": 3,
      "metadata": {
        "colab": {
          "base_uri": "https://localhost:8080/"
        },
        "id": "T_JN3iuD-Gma",
        "outputId": "d29b1f0a-4811-4166-8000-8d7157bfc449"
      },
      "outputs": [
        {
          "output_type": "stream",
          "name": "stdout",
          "text": [
            "Average of two number is: 4.5\n"
          ]
        }
      ],
      "source": [
        "def average(num1: int, num2: int) -> float:\n",
        "  return (num1 + num2) / 2\n",
        "\n",
        "result = average(7, 2)\n",
        "print(f\"Average of two number is: {result}\")"
      ]
    },
    {
      "cell_type": "markdown",
      "source": [
        "Problem 2:\n",
        "\n",
        "Fill out the chaotic_counting() function, which prints the numbers from 1 to 10, but with a catch. We've written a done() function which returns True with likelihood DONE_LIKELIHOOD -- at each number, before printing the number, you should call done() and check if it returns True or not. If done() returns True, we're done counting, and you should use a return statement to end the chaotic_counting() function execution and resume execution of main(), which will print \"I'm done.\"."
      ],
      "metadata": {
        "id": "qGQsCuho_41C"
      }
    },
    {
      "cell_type": "code",
      "source": [
        "import random\n",
        "\n",
        "done_liklihood = 0.3\n",
        "\n",
        "def done():\n",
        "  if random.random() < done_liklihood:\n",
        "    return True\n",
        "  return False\n",
        "\n",
        "def choatic_counting():\n",
        "  for i in range(1, 10):\n",
        "    if done():\n",
        "      return\n",
        "    print(i)\n",
        "\n",
        "def main():\n",
        "  print(\"I'm going to count until 10 or until I feel like stopping, whichever comes first.\\n\")\n",
        "  choatic_counting()\n",
        "  print(\"I am done.\")\n",
        "\n",
        "if __name__ == \"__main__\":\n",
        "  main()"
      ],
      "metadata": {
        "colab": {
          "base_uri": "https://localhost:8080/"
        },
        "id": "Rd5i3f8XBNBq",
        "outputId": "faab651b-f090-44e0-b6c9-0e85066a000e"
      },
      "execution_count": 24,
      "outputs": [
        {
          "output_type": "stream",
          "name": "stdout",
          "text": [
            "I'm going to count until 10 or until I feel like stopping, whichever comes first.\n",
            "\n",
            "1\n",
            "2\n",
            "3\n",
            "4\n",
            "5\n",
            "6\n",
            "7\n",
            "I am done.\n"
          ]
        }
      ]
    },
    {
      "cell_type": "markdown",
      "source": [
        "Problem 3:\n",
        "\n",
        "Fill out the function count_even(lst) which\n",
        "\n",
        "first populates a list by prompting the user for integers until they press enter (please use the prompt \"Enter an integer or press enter to stop:\"),\n",
        "\n",
        "and then prints the number of even numbers in the list."
      ],
      "metadata": {
        "id": "KqADG7hlHDor"
      }
    },
    {
      "cell_type": "code",
      "source": [
        "def count_even(int_list: list)-> list:\n",
        "  even_list = []\n",
        "  for i in int_list:\n",
        "    if int(i) % 2 == 0:\n",
        "      even_list.append(i)\n",
        "  return even_list\n",
        "\n",
        "integer_list = []\n",
        "\n",
        "while True:\n",
        "  integer = input(\"Enter an integer: \").strip()\n",
        "\n",
        "  if integer == \"\":\n",
        "    break\n",
        "  integer_list.append(int(integer))\n",
        "\n",
        "result = count_even(integer_list)\n",
        "print(\"\\nEven numbers in the list are:\", result)\n",
        "print(\"\\nCount of even number is:\", len(result))\n"
      ],
      "metadata": {
        "colab": {
          "base_uri": "https://localhost:8080/"
        },
        "id": "zRRIHE8lHOj7",
        "outputId": "b96edd9b-a8ca-499c-d014-d1579f08dbd7"
      },
      "execution_count": 35,
      "outputs": [
        {
          "output_type": "stream",
          "name": "stdout",
          "text": [
            "Enter an integer: 5\n",
            "Enter an integer: 6\n",
            "Enter an integer: 34\n",
            "Enter an integer: 56\n",
            "Enter an integer: 67\n",
            "Enter an integer: 8\n",
            "Enter an integer: 9\n",
            "Enter an integer: 0\n",
            "Enter an integer: \n",
            "\n",
            "Even numbers in the list are: [6, 34, 56, 8, 0]\n",
            "\n",
            "Count of even number is: 5\n"
          ]
        }
      ]
    },
    {
      "cell_type": "markdown",
      "source": [
        "Problem 4:\n",
        "\n",
        "Fill out the double(num) function to return the result of multiplying num by 2."
      ],
      "metadata": {
        "id": "V-5PUZMTMHEd"
      }
    },
    {
      "cell_type": "code",
      "source": [
        "def double(num: int)-> int:\n",
        "  return num * 2\n",
        "\n",
        "number = int(input(\"Enter a number: \"))\n",
        "\n",
        "result = double(number)\n",
        "print(number, \"Double is\", result)"
      ],
      "metadata": {
        "colab": {
          "base_uri": "https://localhost:8080/"
        },
        "id": "IK86jmaRMQDM",
        "outputId": "0de27558-0a5d-4d6e-aef8-cada633314cc"
      },
      "execution_count": 38,
      "outputs": [
        {
          "output_type": "stream",
          "name": "stdout",
          "text": [
            "Enter a number: 5\n",
            "5 Double is 10\n"
          ]
        }
      ]
    },
    {
      "cell_type": "markdown",
      "source": [
        "Problem 5:\n",
        "\n",
        "Fill out the get_name() function to return your name as a string! and then prints it in a greeting."
      ],
      "metadata": {
        "id": "QFx8ISFeNtJ1"
      }
    },
    {
      "cell_type": "code",
      "source": [
        "def greeting(name: str) -> str:\n",
        "  return f\"How are you {name}!\"\n",
        "\n",
        "print(greeting(\"Sophia\"))"
      ],
      "metadata": {
        "colab": {
          "base_uri": "https://localhost:8080/"
        },
        "id": "OcT4c4HgN2O0",
        "outputId": "92493a63-5148-450c-8678-70cd18072b85"
      },
      "execution_count": 46,
      "outputs": [
        {
          "output_type": "stream",
          "name": "stdout",
          "text": [
            "How are you Sophia!\n"
          ]
        }
      ]
    },
    {
      "cell_type": "markdown",
      "source": [
        "Problem 6:\n",
        "\n",
        "10 even 11 odd 12 even 13 odd 14 even 15 odd 16 even 17 odd 18 even 19 odd"
      ],
      "metadata": {
        "id": "7dOtQfyFPaoN"
      }
    },
    {
      "cell_type": "code",
      "source": [
        "integer_list = []\n",
        "\n",
        "while True:\n",
        "  integer = input(\"Enter an integer: \").strip()\n",
        "\n",
        "  if integer == \"\":\n",
        "    break\n",
        "  integer_list.append(int(integer))\n",
        "\n",
        "for i in integer_list:\n",
        "  if i % 2 == 0:\n",
        "    print(f\"\\n{i} is even.\")\n",
        "  else:\n",
        "    print(f\"\\n{i} is odd.\")\n"
      ],
      "metadata": {
        "colab": {
          "base_uri": "https://localhost:8080/"
        },
        "id": "asrSpS2hQFyl",
        "outputId": "c1c85118-ab0c-4f96-e138-e9e7072dca7d"
      },
      "execution_count": 48,
      "outputs": [
        {
          "output_type": "stream",
          "name": "stdout",
          "text": [
            "Enter an integer: 5\n",
            "Enter an integer: 3\n",
            "Enter an integer: 46\n",
            "Enter an integer: 67\n",
            "Enter an integer: 89\n",
            "Enter an integer: 0\n",
            "Enter an integer: 8\n",
            "Enter an integer: \n",
            "\n",
            "5 is odd.\n",
            "\n",
            "3 is odd.\n",
            "\n",
            "46 is even.\n",
            "\n",
            "67 is odd.\n",
            "\n",
            "89 is odd.\n",
            "\n",
            "0 is even.\n",
            "\n",
            "8 is even.\n"
          ]
        }
      ]
    },
    {
      "cell_type": "markdown",
      "source": [
        "Problem 7:\n",
        "\n",
        "Write the helper function print_divisors(num), which takes in a number and prints all of its divisors (all the numbers from 1 to num inclusive that num can be cleanly divided by (there is no remainder to the division)."
      ],
      "metadata": {
        "id": "CCQiJM8uRO5W"
      }
    },
    {
      "cell_type": "code",
      "source": [
        "def divisor(num: int):\n",
        "  divisor_list = []\n",
        "  for i in range(1, num + 1):\n",
        "    if num % i == 0:\n",
        "       divisor_list.append(i)\n",
        "  return divisor_list\n",
        "\n",
        "number = int(input(\"Enter a number: \"))\n",
        "result = divisor(number)\n",
        "\n",
        "print(f\"\\nDivisors of {number}: {result}\")"
      ],
      "metadata": {
        "colab": {
          "base_uri": "https://localhost:8080/"
        },
        "id": "M7nxrianSNPv",
        "outputId": "1146c4a3-56c2-435d-b231-8a0220302e36"
      },
      "execution_count": 57,
      "outputs": [
        {
          "output_type": "stream",
          "name": "stdout",
          "text": [
            "Enter a number: 56\n",
            "\n",
            "Divisors of 56: [1, 2, 4, 7, 8, 14, 28, 56]\n"
          ]
        }
      ]
    },
    {
      "cell_type": "markdown",
      "source": [
        "Problem 8:\n",
        "\n",
        "Fill out print_multiple(message, repeats), which takes as parameters a string message to print, and an integer repeats number of times to print message."
      ],
      "metadata": {
        "id": "og6cyv6NVrZx"
      }
    },
    {
      "cell_type": "code",
      "source": [
        "def multiple(message: str, repeat: int)-> str:\n",
        "  result = [message] * repeat\n",
        "  return \" \".join(result)\n",
        "\n",
        "message = input(\"Please type a message: \")\n",
        "repeat = int(input(\"\\nEnter a number of times to repeat your message: \"))\n",
        "\n",
        "print(\"\\n\", multiple(message, repeat))"
      ],
      "metadata": {
        "colab": {
          "base_uri": "https://localhost:8080/"
        },
        "id": "KtCAjMbTV2VW",
        "outputId": "4308c15e-6f7d-4409-fce7-ca07782e1db0"
      },
      "execution_count": 66,
      "outputs": [
        {
          "output_type": "stream",
          "name": "stdout",
          "text": [
            "Please type a message: malia\n",
            "\n",
            "Enter a number of times to repeat your message: 3\n",
            "\n",
            " malia malia malia\n"
          ]
        }
      ]
    },
    {
      "cell_type": "markdown",
      "source": [
        "Problem 9:\n",
        "\n",
        "Implement the helper function make_sentence(word, part_of_speech) which will take a string word and an integer part_of_speech as parameters and, depending on the part of speech, place the word into one of three sentence templates (or one from your imagination!):\n",
        "\n",
        "If part_of_speech is 0, we will assume the word is a noun and use the template: \"I am excited to add this ____ to my vast collection of them!\"\n",
        "\n",
        "If part_of_speech is 1, we will assume the word is a verb use the template: \"It's so nice outside today it makes me want to ____!\"\n",
        "\n",
        "If part_of_speech is 2, we will assume the word is an adjective and use the template: \"Looking out my window, the sky is big and ____!\" make_sentence(word, part_of_speech) should not return anything, just print the correct sentence with the word filled in the blank."
      ],
      "metadata": {
        "id": "dsLz1Gt4Yi9X"
      }
    },
    {
      "cell_type": "code",
      "source": [
        "def make_sentence(word: str, part_of_speech: int):\n",
        "  if part_of_speech == 0:\n",
        "    print(f\"\\nI am excited to add this '{word}' to my vast collection of them!\")\n",
        "  elif part_of_speech == 1:\n",
        "    print(f\"\\nIt's so nice outside today it makes me want to '{word}'!\")\n",
        "  elif part_of_speech == 2:\n",
        "    print(f\"\\nLooking out my window, the sky is big and '{word}'!\")\n",
        "\n",
        "def main():\n",
        "  word = input(\"Please type a noun, verb, or adjective: \")\n",
        "  print(\"\\nIs this is a noun, verb or adjective?\")\n",
        "  part_of_speech = int(input(\"\\nType: 0 for noun, 1 for verb, 2 for adjective: \"))\n",
        "  make_sentence(word, part_of_speech)\n",
        "\n",
        "if __name__ == \"__main__\":\n",
        "  main()"
      ],
      "metadata": {
        "colab": {
          "base_uri": "https://localhost:8080/"
        },
        "id": "w_B8dV1Da9zQ",
        "outputId": "bf118d4c-9a33-4854-de9d-1a69c41be2ad"
      },
      "execution_count": 72,
      "outputs": [
        {
          "output_type": "stream",
          "name": "stdout",
          "text": [
            "Please type a noun, verb, or adjective: meeting\n",
            "\n",
            "Is this is a noun, verb or adjective?\n",
            "\n",
            "Type: 0 for noun, 1 for verb, 2 for adjective: 1\n",
            "\n",
            "It's so nice outside today it makes me want to 'meeting'!\n"
          ]
        }
      ]
    },
    {
      "cell_type": "markdown",
      "source": [
        "Problem 10:\n",
        "\n",
        "Write a function called print_ones_digit , which takes as a parameter an integer num and prints its ones digit. The modulo (remainder) operator, %, should be helpful to you."
      ],
      "metadata": {
        "id": "1GpO2NRnebPB"
      }
    },
    {
      "cell_type": "code",
      "source": [
        "def print_ones_digit(num: int)-> int:\n",
        "  one_digit = num % 10\n",
        "  return one_digit\n",
        "\n",
        "number = int(input(\"Enter a number: \"))\n",
        "result = print_ones_digit(number)\n",
        "\n",
        "print(f\"\\nThe ones digit is {result}\")"
      ],
      "metadata": {
        "colab": {
          "base_uri": "https://localhost:8080/"
        },
        "id": "g66rG1-wgV4i",
        "outputId": "fbc0abc1-be4f-4f02-cf9b-bc5052dc0f99"
      },
      "execution_count": 78,
      "outputs": [
        {
          "output_type": "stream",
          "name": "stdout",
          "text": [
            "Enter a number: 67\n",
            "\n",
            "The ones digit is 7\n"
          ]
        }
      ]
    }
  ]
}