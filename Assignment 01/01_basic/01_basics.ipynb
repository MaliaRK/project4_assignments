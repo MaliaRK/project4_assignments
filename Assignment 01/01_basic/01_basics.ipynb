{
  "nbformat": 4,
  "nbformat_minor": 0,
  "metadata": {
    "colab": {
      "provenance": [],
      "authorship_tag": "ABX9TyPYyGhN5No94a/5/ATilrG3",
      "include_colab_link": true
    },
    "kernelspec": {
      "name": "python3",
      "display_name": "Python 3"
    },
    "language_info": {
      "name": "python"
    }
  },
  "cells": [
    {
      "cell_type": "markdown",
      "metadata": {
        "id": "view-in-github",
        "colab_type": "text"
      },
      "source": [
        "<a href=\"https://colab.research.google.com/github/MaliaRK/project4_assignments/blob/master/01_basics.ipynb\" target=\"_parent\"><img src=\"https://colab.research.google.com/assets/colab-badge.svg\" alt=\"Open In Colab\"/></a>"
      ]
    },
    {
      "cell_type": "markdown",
      "source": [
        "Problem 1:\n",
        "\n",
        "Write a simple joke bot. The bot starts by asking the user what they want. However, your program will only respond to one response: Joke.\n",
        "\n",
        "If the user enters Joke then we will print out a single joke. Each time the joke is always the same:\n",
        "\n",
        "Here is a joke for you! Panaversity GPT - Sophia is heading out to the grocery store. A programmer tells her: get a liter of milk, and if they have eggs, get 12. Sophia returns with 13 liters of milk. The programmer asks why and Sophia replies: 'because they had eggs'\n",
        "\n",
        "If the user enters anything else we print out:\n",
        "\n",
        "Sorry I only tell jokes\n",
        "\n",
        "You should use the three constants:\n",
        "\n",
        "PROMPT JOKE SORRY\n",
        "\n",
        "which contain the strings for the prompt asked to the user, the joke to print out if the user enters Joke and the sorry message if the user enters anything else.\n",
        "\n",
        "Your program will need to use an if statement which checks if the user input is Joke:\n",
        "\n",
        "if user_input == \"Joke\":\n",
        "\n",
        "Recall that == is a comparison which tests if two values are equal to one another."
      ],
      "metadata": {
        "id": "k8qe3pw3ec4a"
      }
    },
    {
      "cell_type": "code",
      "execution_count": 7,
      "metadata": {
        "colab": {
          "base_uri": "https://localhost:8080/"
        },
        "id": "WVBoScbFecLL",
        "outputId": "e7cab9d1-8032-48cb-9e4a-8855a6e14161"
      },
      "outputs": [
        {
          "output_type": "stream",
          "name": "stdout",
          "text": [
            "What do you want? joke\n",
            "\n",
            "Here is a joke for you! Panaversity GPT - \n",
            "Sophia is heading out to the grocery store.\n",
            "A programmer tells her: get a liter of milk, and if they have eggs, get 12. Sophia returns with 13 liters of milk.\n",
            "The programmer asks why and Sophia replies: 'because they had eggs'\n"
          ]
        }
      ],
      "source": [
        "PROMPT = input(\"What do you want? \")\n",
        "JOKE = \"\"\"\\nHere is a joke for you! Panaversity GPT -\n",
        "Sophia is heading out to the grocery store.\n",
        "A programmer tells her: get a liter of milk, and if they have eggs, get 12. Sophia returns with 13 liters of milk.\n",
        "The programmer asks why and Sophia replies: 'because they had eggs'\"\"\"\n",
        "SORRY = \"\\nSorry I only tell jokes\"\n",
        "\n",
        "if PROMPT.lower() == \"joke\":\n",
        "  print(JOKE)\n",
        "else:\n",
        "  print(SORRY)"
      ]
    },
    {
      "cell_type": "markdown",
      "source": [
        "Problem 2:\n",
        "\n",
        "Write a program that asks a user to enter a number. Your program will then double that number and print out the result. It will repeat that process until the value is 100 or greater."
      ],
      "metadata": {
        "id": "h-gu9u66kNe4"
      }
    },
    {
      "cell_type": "code",
      "source": [
        "current_value = int(input(\"Enter a number: \"))\n",
        "\n",
        "while current_value < 100:\n",
        "  double_value = current_value * 2\n",
        "  print(f\"\\n{current_value} doubled is {double_value}\")\n",
        "  current_value = double_value\n"
      ],
      "metadata": {
        "colab": {
          "base_uri": "https://localhost:8080/"
        },
        "id": "f5JL5K5mkJJQ",
        "outputId": "98a1ad30-6115-4359-bfaf-8c5ea22bec40"
      },
      "execution_count": 9,
      "outputs": [
        {
          "output_type": "stream",
          "name": "stdout",
          "text": [
            "Enter a number: 5\n",
            "\n",
            "5 doubled is 10\n",
            "\n",
            "10 doubled is 20\n",
            "\n",
            "20 doubled is 40\n",
            "\n",
            "40 doubled is 80\n",
            "\n",
            "80 doubled is 160\n"
          ]
        }
      ]
    },
    {
      "cell_type": "markdown",
      "source": [
        "Problem 3:\n",
        "\n",
        "Write a program that prints out the calls for a spaceship that is about to launch. Countdown from 10 to 1 and then output Liftoff!"
      ],
      "metadata": {
        "id": "rE7bzfmGkroI"
      }
    },
    {
      "cell_type": "code",
      "source": [
        "for i in range(10, 0, -1):\n",
        "  print(i)\n",
        "\n",
        "print(\"Liftoff!\")"
      ],
      "metadata": {
        "colab": {
          "base_uri": "https://localhost:8080/"
        },
        "id": "CcFd-Q98koLw",
        "outputId": "73c388c1-10b3-452a-d50e-c90f28a275c4"
      },
      "execution_count": 10,
      "outputs": [
        {
          "output_type": "stream",
          "name": "stdout",
          "text": [
            "10\n",
            "9\n",
            "8\n",
            "7\n",
            "6\n",
            "5\n",
            "4\n",
            "3\n",
            "2\n",
            "1\n",
            "Liftoff!\n"
          ]
        }
      ]
    },
    {
      "cell_type": "markdown",
      "source": [
        "Problem 4:\n",
        "\n",
        "Guess My Number\n",
        "\n",
        "I am thinking of a number between 0 and 99..."
      ],
      "metadata": {
        "id": "KU0P52fUlLGY"
      }
    },
    {
      "cell_type": "code",
      "source": [
        "import random\n",
        "\n",
        "print(f\"\\n🎯I am thinking of a number between 0 and 99... 🤔(You have only 7 Attempts.)\")\n",
        "print(\"\\ntype 'exit' in order to quit.\\n\")\n",
        "\n",
        "random_number = random.randint(1, 100)\n",
        "length = 7\n",
        "\n",
        "while length:\n",
        "  user_input = input(\"\\nGuess a number between 1 to 100: \")\n",
        "\n",
        "  if user_input.lower() == 'exit':\n",
        "    print('🚪program exited!')\n",
        "    break\n",
        "\n",
        "  try:\n",
        "    num = int(user_input)\n",
        "\n",
        "    if num < 0 or num > 100:\n",
        "      print('\\nPlease guess a number between 1 to 100\\n')\n",
        "      continue\n",
        "\n",
        "    if num == random_number:\n",
        "        print('\\n🎉Congratulations! You guessed a correct number.\\n')\n",
        "        break\n",
        "\n",
        "    elif num < random_number:\n",
        "      print('\\n📉Too low! Try again.\\n')\n",
        "    else:\n",
        "      print('\\n📈Too high! Try again.\\n')\n",
        "\n",
        "    length -= 1\n",
        "    print(f\"\\n🔁Remaining Attempt: {length}\")\n",
        "\n",
        "    if length == 0:\n",
        "      print(f\"\\n❌Sorry! You've run out of attempt. \\n\\nCorrect number was {random_number}.\")\n",
        "\n",
        "  except:\n",
        "    print('\\n🚨Invalid input\\n')\n",
        "\n"
      ],
      "metadata": {
        "id": "IJbVOoWflC8I"
      },
      "execution_count": null,
      "outputs": []
    },
    {
      "cell_type": "markdown",
      "source": [
        "Problem 5:\n",
        "\n",
        "Print 10 random numbers in the range 1 to 100."
      ],
      "metadata": {
        "id": "mKFxPajRljLv"
      }
    },
    {
      "cell_type": "code",
      "source": [
        "import random\n",
        "\n",
        "random_number = []\n",
        "\n",
        "while len(random_number) != 10:                                  # using while loop\n",
        "  random_number.append(random.randint(1, 100))\n",
        "\n",
        "print(\"10 random numbers using while loop: \", random_number)\n",
        "\n",
        "random_number = [random.randint(1, 100) for i in range(10)]      # using for loop\n",
        "print(\"\\n10 random numbers using for loop: \", random_number)"
      ],
      "metadata": {
        "colab": {
          "base_uri": "https://localhost:8080/"
        },
        "id": "MPeEuUdHlg3n",
        "outputId": "bc402926-21c4-4e8a-9a4a-97544b65644f"
      },
      "execution_count": 19,
      "outputs": [
        {
          "output_type": "stream",
          "name": "stdout",
          "text": [
            "10 random numbers using while loop:  [13, 28, 66, 89, 27, 31, 34, 19, 28, 93]\n",
            "\n",
            "10 random numbers using for loop:  [24, 92, 29, 94, 6, 66, 9, 14, 88, 48]\n"
          ]
        }
      ]
    }
  ]
}