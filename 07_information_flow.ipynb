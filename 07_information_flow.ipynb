{
  "nbformat": 4,
  "nbformat_minor": 0,
  "metadata": {
    "colab": {
      "provenance": [],
      "authorship_tag": "ABX9TyPsGa8xeEfjzKoAlHL8rMeV",
      "include_colab_link": true
    },
    "kernelspec": {
      "name": "python3",
      "display_name": "Python 3"
    },
    "language_info": {
      "name": "python"
    }
  },
  "cells": [
    {
      "cell_type": "markdown",
      "metadata": {
        "id": "view-in-github",
        "colab_type": "text"
      },
      "source": [
        "<a href=\"https://colab.research.google.com/github/MaliaRK/project4_assignments/blob/master/07_information_flow.ipynb\" target=\"_parent\"><img src=\"https://colab.research.google.com/assets/colab-badge.svg\" alt=\"Open In Colab\"/></a>"
      ]
    },
    {
      "cell_type": "markdown",
      "source": [
        "Problem 1:\n",
        "\n",
        "There are times where we want to return different things from a function based on some condition. To practice this idea, imagine that we want to check if someone is an adult. We might check their age and return different things depending on how old they are!\n",
        "\n",
        "We've provided you with the ADULT_AGE variable which has the age a person is legally classified as an adult (in the United States). Fill out the is_adult(age) function, which returns True if the function takes an age that is greater than or equal to ADULT_AGE. If the function takes an age less than ADULT_AGE, return False instead."
      ],
      "metadata": {
        "id": "Ogqq-VFTT2zY"
      }
    },
    {
      "cell_type": "code",
      "execution_count": null,
      "metadata": {
        "colab": {
          "base_uri": "https://localhost:8080/"
        },
        "id": "-TqQ-KzqTreg",
        "outputId": "236f381b-e07c-4778-eee0-aa375a71d75e"
      },
      "outputs": [
        {
          "output_type": "stream",
          "name": "stdout",
          "text": [
            "How old are you? 5\n",
            "Entered age is not an adult age.\n",
            "False\n"
          ]
        }
      ],
      "source": [
        "ADULT_AGE : int = 18      # U.S. age\n",
        "\n",
        "def main():\n",
        "  age = int(input(\"How old are you? \"))\n",
        "  message, status = is_adult(age)\n",
        "  print(message)\n",
        "  print(status)\n",
        "\n",
        "def is_adult(age: int)-> str:\n",
        "  if age >= ADULT_AGE:\n",
        "    return \"Entered age is an adult age.\", True\n",
        "  else:\n",
        "    return \"Entered age is not an adult age.\", False\n",
        "\n",
        "if __name__ == \"__main__\":\n",
        "  main()"
      ]
    },
    {
      "cell_type": "markdown",
      "source": [
        "Problem 2:\n",
        "\n",
        "We've written a helper function for you called greet(name) which takes as input a string name and prints a greeting."
      ],
      "metadata": {
        "id": "GvSdzJi6dSG5"
      }
    },
    {
      "cell_type": "code",
      "source": [
        "name = input(\"What's your name? \")\n",
        "\n",
        "def greet(name: str)-> str:\n",
        "  return f\"\\ngreet {name}!\"\n",
        "\n",
        "print(greet(name))"
      ],
      "metadata": {
        "colab": {
          "base_uri": "https://localhost:8080/"
        },
        "id": "SdoflEPFdbdx",
        "outputId": "715519c2-8b7f-40d8-ad6f-55c2e19b3e7e"
      },
      "execution_count": null,
      "outputs": [
        {
          "output_type": "stream",
          "name": "stdout",
          "text": [
            "What's your name: malia\n",
            "\n",
            "greet malia!\n"
          ]
        }
      ]
    },
    {
      "cell_type": "markdown",
      "source": [
        "Problem 3:\n",
        "\n",
        "Implement the following function which takes in 3 integers as parameters:\n",
        "\n",
        "def in_range(n, low, high) \"\"\" Returns True if n is between low and high, inclusive. high is guaranteed to be greater than low. \"\"\""
      ],
      "metadata": {
        "id": "q90tM445ea55"
      }
    },
    {
      "cell_type": "code",
      "source": [
        "import random\n",
        "\n",
        "def main():\n",
        "  random_number = random.randint(0, 100)\n",
        "  low = int(input(\"Enter low number: \"))\n",
        "  high = int(input(\"Enter high number: \"))\n",
        "  status = in_range(random_number, low, high)\n",
        "\n",
        "  if status:\n",
        "    print(f\"\\nGenerated number {random_number} is within range ({low}-{high})\")\n",
        "  else:\n",
        "    print(f\"\\nGenerated number {random_number} is outside the range ({low}-{high})\")\n",
        "\n",
        "def in_range(n, low, high):\n",
        "  return n >= low and n <= high\n",
        "\n",
        "if __name__ == \"__main__\":\n",
        "  main()"
      ],
      "metadata": {
        "colab": {
          "base_uri": "https://localhost:8080/"
        },
        "id": "LSt_hcB0fXtp",
        "outputId": "4c1bf74a-2e0c-42e6-950a-78bcf6610fe6"
      },
      "execution_count": null,
      "outputs": [
        {
          "output_type": "stream",
          "name": "stdout",
          "text": [
            "Enter low number: 4\n",
            "Enter high number: 55\n",
            "\n",
            "Generated number 69 is outside the range (4-55)\n"
          ]
        }
      ]
    },
    {
      "cell_type": "markdown",
      "source": [
        "Problem 4:\n",
        "\n",
        "Sophia has a fruit store. She has written a function num_in_stock which takes a string fruit as a parameter and returns how many of that fruit are in her inventory."
      ],
      "metadata": {
        "id": "nPVSD_j-2UJl"
      }
    },
    {
      "cell_type": "code",
      "source": [
        "fruits_inventory = {\n",
        "  'apple': '1200',\n",
        "  'banana': '500',\n",
        "  'mango': '350',\n",
        "  'lychee': '150',\n",
        "  'kiwi': '200',\n",
        "  'strawberry': '700'\n",
        "}\n",
        "\n",
        "def main():\n",
        "  fruit = input(\"Enter a fruit: \")\n",
        "  status = num_in_stock(fruit)\n",
        "\n",
        "  if status:\n",
        "    print(f\"\\nThis fruit is in stock! Here is how many:\\n{fruits_inventory[fruit]}\")\n",
        "  else:\n",
        "    print(\"\\nThis fruit is not in stock.\")\n",
        "\n",
        "def num_in_stock(fruit: str):\n",
        "  if fruit in fruits_inventory:\n",
        "    return fruits_inventory.get(fruit, False)\n",
        "\n",
        "if __name__ == \"__main__\":\n",
        "  main()"
      ],
      "metadata": {
        "id": "3ASUTAbK4bIE",
        "colab": {
          "base_uri": "https://localhost:8080/"
        },
        "outputId": "2acda32f-5f94-435d-9abf-dea023e0c59e"
      },
      "execution_count": 7,
      "outputs": [
        {
          "output_type": "stream",
          "name": "stdout",
          "text": [
            "Enter a fruit: grapes\n",
            "\n",
            "This fruit is not in stock.\n"
          ]
        }
      ]
    },
    {
      "cell_type": "markdown",
      "source": [
        "Problem 5:\n",
        "\n",
        "imagine we are working on a program where the user needs to enters data to sign up for a website. Fill out the get_user_data() function which:\n",
        "\n",
        "Asks the user for their first name and stores it in a variable\n",
        "\n",
        "Asks the user for their last name and stores it in a variable\n",
        "\n",
        "Asks the user for their email address and stores it in a variable\n",
        "\n",
        "Returns all three of these pieces of data in the order it was asked\n",
        "\n",
        "You can return multiple pieces of data by separating each piece with a comma in the return line."
      ],
      "metadata": {
        "id": "ALOKcH2wVcpN"
      }
    },
    {
      "cell_type": "code",
      "source": [
        "def main():\n",
        "  user_data = get_user_data()\n",
        "  print(\"\\nRecieved the following user data\", user_data)\n",
        "\n",
        "def get_user_data():\n",
        "  first_name = input(\"What is your first name? \")\n",
        "  last_name = input(\"What is your last name?: \")\n",
        "  email_address = input(\"What is your email address? \")\n",
        "  return first_name, last_name, email_address\n",
        "\n",
        "if __name__ == \"__main__\":\n",
        "  main()"
      ],
      "metadata": {
        "colab": {
          "base_uri": "https://localhost:8080/"
        },
        "id": "HzZ7d4vPWRW0",
        "outputId": "ed453790-da3d-441b-ca2c-8deedf548e90"
      },
      "execution_count": 13,
      "outputs": [
        {
          "output_type": "stream",
          "name": "stdout",
          "text": [
            "What is your first name? malia\n",
            "What is your last name?: raees\n",
            "What is your email address? jbgfj@gmail.com\n",
            "\n",
            "Recieved the following user data ('malia', 'raees', 'jbgfj@gmail.com')\n"
          ]
        }
      ]
    },
    {
      "cell_type": "markdown",
      "source": [
        "Problem 6:\n",
        "\n",
        "Fill out the subtract_seven helper function to subtract 7 from num, and fill out the main() method to call the subtract_seven helper function!"
      ],
      "metadata": {
        "id": "l_n9ybEzalsT"
      }
    },
    {
      "cell_type": "code",
      "source": [
        "def main():\n",
        "  num = int(input(\"Enter a number: \"))\n",
        "  after_subtract = subtract_seven(num)\n",
        "  print(f\"\\nThe number after subtract 7 is: {after_subtract}\")\n",
        "\n",
        "def subtract_seven(num: int):\n",
        "  return num - 7\n",
        "\n",
        "if __name__ == \"__main__\":\n",
        "  main()"
      ],
      "metadata": {
        "colab": {
          "base_uri": "https://localhost:8080/"
        },
        "id": "gi6bt1qSalGE",
        "outputId": "b512f1f7-7fe8-4075-abac-542a299301e0"
      },
      "execution_count": 17,
      "outputs": [
        {
          "output_type": "stream",
          "name": "stdout",
          "text": [
            "Enter a number: 5\n",
            "\n",
            "The number after subtract 7 is: -2\n"
          ]
        }
      ]
    }
  ]
}