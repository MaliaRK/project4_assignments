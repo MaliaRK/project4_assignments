{
  "nbformat": 4,
  "nbformat_minor": 0,
  "metadata": {
    "colab": {
      "provenance": [],
      "authorship_tag": "ABX9TyMtu/Q8iUpGcp5IX7Ij0xWB",
      "include_colab_link": true
    },
    "kernelspec": {
      "name": "python3",
      "display_name": "Python 3"
    },
    "language_info": {
      "name": "python"
    }
  },
  "cells": [
    {
      "cell_type": "markdown",
      "metadata": {
        "id": "view-in-github",
        "colab_type": "text"
      },
      "source": [
        "<a href=\"https://colab.research.google.com/github/MaliaRK/project4_assignments/blob/master/01_expressions.ipynb\" target=\"_parent\"><img src=\"https://colab.research.google.com/assets/colab-badge.svg\" alt=\"Open In Colab\"/></a>"
      ]
    },
    {
      "cell_type": "markdown",
      "source": [
        "Problem 1:\n",
        "\n",
        "Simulate rolling two dice, three times. Prints the results of each die roll. This program is used to show how variable scope works.\n"
      ],
      "metadata": {
        "id": "YExSZu8Jl_n4"
      }
    },
    {
      "cell_type": "code",
      "source": [
        "import random\n",
        "\n",
        "dice_range = range(1, 7)\n",
        "count = 1\n",
        "\n",
        "while count <= 3:\n",
        "  roll_die1 = random.choice(dice_range)\n",
        "  roll_die2 = random.choice(dice_range)\n",
        "  print(f\"die 1 roll is: {roll_die1}\\ndie 2 roll is: {roll_die2}\")\n",
        "  print(\"Total of two dice is: \", roll_die1 + roll_die2, \"\\n\")\n",
        "  count += 1"
      ],
      "metadata": {
        "colab": {
          "base_uri": "https://localhost:8080/"
        },
        "id": "cszPppERx1K-",
        "outputId": "387fb439-42e9-4ff5-9138-f2a566bcb719"
      },
      "execution_count": 25,
      "outputs": [
        {
          "output_type": "stream",
          "name": "stdout",
          "text": [
            "die 1 roll is: 1\n",
            "die 2 roll is: 6\n",
            "Total of two dice is:  7 \n",
            "\n",
            "die 1 roll is: 2\n",
            "die 2 roll is: 2\n",
            "Total of two dice is:  4 \n",
            "\n",
            "die 1 roll is: 1\n",
            "die 2 roll is: 2\n",
            "Total of two dice is:  3 \n",
            "\n"
          ]
        }
      ]
    },
    {
      "cell_type": "markdown",
      "source": [
        "Problem 2:\n",
        "\n",
        "Write a program that continually reads in mass from the user and then outputs the equivalent energy using Einstein's mass-energy equivalence formula (E stands for energy, m stands for mass, and C is the speed of light:\n",
        "\n",
        "E = m * c**2"
      ],
      "metadata": {
        "id": "UVNekTpN0v9W"
      }
    },
    {
      "cell_type": "code",
      "source": [
        "print(\"Mass Energy!\")\n",
        "\n",
        "while True:\n",
        "  mass = input(\"\\nEnter kilos of mass: \")\n",
        "\n",
        "  try:\n",
        "    m = float(mass)\n",
        "    c = 299792458\n",
        "    e = m * c ** 2\n",
        "\n",
        "    print(\"\\ne = m * c^2\")\n",
        "    print(f\"\\nm = {m}kg\")\n",
        "    print(f\"\\nc = {c} m/s\")\n",
        "    print(f\"\\n{e} joules of energy!\")\n",
        "\n",
        "  except ValueError:\n",
        "    print(\"\\nInvalid input! Please enter a valid number.\")\n",
        "\n",
        "  again = input(\"\\nDo you want to enter another mass? (yes/no)\").strip().lower()\n",
        "\n",
        "  if again == \"no\":\n",
        "    print(\"\\nProgram exited!\")\n",
        "    break"
      ],
      "metadata": {
        "colab": {
          "base_uri": "https://localhost:8080/"
        },
        "id": "efRhhwTv1chF",
        "outputId": "4358f568-54f6-435b-95e1-dd50fc14bdbc"
      },
      "execution_count": null,
      "outputs": [
        {
          "output_type": "stream",
          "name": "stdout",
          "text": [
            "Mass Energy!\n",
            "\n",
            "Enter kilos of mass: 4\n",
            "\n",
            "e = m * c^2\n",
            "\n",
            "m = 4.0kg\n",
            "\n",
            "c = 299792458 m/s\n",
            "\n",
            "3.5950207149472704e+17 joules of energy!\n",
            "\n",
            "Do you want to enter another mass? (yes/no)yes\n",
            "\n",
            "Enter kilos of mass: 9\n",
            "\n",
            "e = m * c^2\n",
            "\n",
            "m = 9.0kg\n",
            "\n",
            "c = 299792458 m/s\n",
            "\n",
            "8.088796608631359e+17 joules of energy!\n",
            "\n",
            "Do you want to enter another mass? (yes/no)yes\n",
            "\n",
            "Enter kilos of mass: kj\n",
            "\n",
            "Invalid input! Please enter a valid number.\n",
            "\n",
            "Do you want to enter another mass? (yes/no)yes\n",
            "\n",
            "Enter kilos of mass: 7\n",
            "\n",
            "e = m * c^2\n",
            "\n",
            "m = 7.0kg\n",
            "\n",
            "c = 299792458 m/s\n",
            "\n",
            "6.291286251157723e+17 joules of energy!\n",
            "\n",
            "Do you want to enter another mass? (yes/no)no\n",
            "\n",
            "Program exited!\n"
          ]
        }
      ]
    },
    {
      "cell_type": "markdown",
      "source": [
        "Problem 3:\n",
        "\n",
        "Converts feet to inches. Feet is an American unit of measurement. There are 12 inches per foot. Foot is the singular, and feet is the plural."
      ],
      "metadata": {
        "id": "mGF4iV4PAGq7"
      }
    },
    {
      "cell_type": "code",
      "source": [
        "print(\"Conversion Feet into Inches!\")\n",
        "\n",
        "feet = float(input(\"\\nEnter feet: \"))\n",
        "\n",
        "result = feet * 12\n",
        "\n",
        "print(f\"\\n{feet} feet = {result} inches.\")"
      ],
      "metadata": {
        "colab": {
          "base_uri": "https://localhost:8080/"
        },
        "id": "3GTuyWCqAJET",
        "outputId": "1efd4ed0-35ae-424e-ed40-9095de28440c"
      },
      "execution_count": null,
      "outputs": [
        {
          "output_type": "stream",
          "name": "stdout",
          "text": [
            "Conversion Feet into Inches!\n",
            "\n",
            "Enter feet: 789\n",
            "\n",
            "789.0 feet = 9468.0 inches.\n"
          ]
        }
      ]
    },
    {
      "cell_type": "markdown",
      "source": [
        "Problem 4:\n",
        "\n",
        "Write a program that asks the user for the lengths of the two perpendicular sides of a right triangle and outputs the length of the third side (the hypotenuse) using the Pythagorean theorem!\n",
        "\n",
        "BC ** 2 = AB ** 2 + AC ** 2"
      ],
      "metadata": {
        "id": "ftUg7e2nCkbz"
      }
    },
    {
      "cell_type": "code",
      "source": [
        "import math\n",
        "\n",
        "print(\"calculate Hypotenuse!\")\n",
        "\n",
        "ab = float(input(\"\\nEnter the length of AB: \"))\n",
        "ac = float(input(\"\\nEnter the length of AC: \"))\n",
        "bc = math.sqrt(ab**2 + ac**2)\n",
        "\n",
        "print(f\"\\nThe length of BC (the hypotenuse) is: {bc}\")"
      ],
      "metadata": {
        "colab": {
          "base_uri": "https://localhost:8080/"
        },
        "id": "tNwhV7SEDm8y",
        "outputId": "db0755cf-0967-4ee1-fc5d-a5c8c1b01fd9"
      },
      "execution_count": null,
      "outputs": [
        {
          "output_type": "stream",
          "name": "stdout",
          "text": [
            "calculate Hypotenuse!\n",
            "\n",
            "Enter the length of AB: 4\n",
            "\n",
            "Enter the length of AC: 90\n",
            "\n",
            "The length of BC (the hypotenuse) is: 90.08884503644167\n"
          ]
        }
      ]
    },
    {
      "cell_type": "markdown",
      "source": [
        "Problem 5:\n",
        "\n",
        "Ask the user for two numbers, one at a time, and then print the result of dividing the first number by the second and also the remainder of the division."
      ],
      "metadata": {
        "id": "pmUASe0jGpRb"
      }
    },
    {
      "cell_type": "code",
      "source": [
        "print(\"Division!\")\n",
        "\n",
        "num1 = int(input(\"\\nPlease enter an integer to be divided: \"))\n",
        "num2 = int(input(\"\\nPlease enter an integer to divide by: \"))\n",
        "\n",
        "quotient = num1 // num2\n",
        "remainder = num1 % num2\n",
        "\n",
        "print(f\"\\nThe result of this division is {quotient} with a remainder of {remainder}.\")"
      ],
      "metadata": {
        "colab": {
          "base_uri": "https://localhost:8080/"
        },
        "id": "JbvYdgn9Gr7K",
        "outputId": "96ee0de3-68ac-4c9a-8d69-2dd33766d27c"
      },
      "execution_count": null,
      "outputs": [
        {
          "output_type": "stream",
          "name": "stdout",
          "text": [
            "Division!\n",
            "\n",
            "Please enter an integer to be divided: 7\n",
            "\n",
            "Please enter an integer to divide by: 4\n",
            "\n",
            "The result of this division is 1 with a remainder of 3.\n"
          ]
        }
      ]
    },
    {
      "cell_type": "markdown",
      "source": [
        "\n",
        "Problem 6:\n",
        "\n",
        "Simulate rolling two dice, and prints results of each roll as well as the total."
      ],
      "metadata": {
        "id": "U8z_EILN-_Dt"
      }
    },
    {
      "cell_type": "code",
      "source": [
        "print(\"Rolling two dice!\")\n",
        "\n",
        "roll_die1 = random.randint(1, 6)\n",
        "roll_die2 = random.randint(1, 6)\n",
        "\n",
        "print(f\"\\ndie 1 roll is: {roll_die1}\\ndie 2 roll is: {roll_die2}\")\n",
        "print(\"\\nTotal of two dice is: \", roll_die1 + roll_die2, \"\\n\")\n"
      ],
      "metadata": {
        "colab": {
          "base_uri": "https://localhost:8080/"
        },
        "id": "dPuNG4Sl_s8F",
        "outputId": "277545ee-5674-4b4b-bc66-00f00842793d"
      },
      "execution_count": 31,
      "outputs": [
        {
          "output_type": "stream",
          "name": "stdout",
          "text": [
            "Rolling two dice!\n",
            "\n",
            "die 1 roll is: 2\n",
            "die 2 roll is: 6\n",
            "\n",
            "Total of two dice is:  8 \n",
            "\n"
          ]
        }
      ]
    },
    {
      "cell_type": "markdown",
      "source": [
        "Problem 7:\n",
        "\n",
        "Use Python to calculate the number of seconds in a year, and tell the user what the result is in a nice print statement that looks like this (of course the value 5 should be the calculated number instead):"
      ],
      "metadata": {
        "id": "jaVx0zoLA5JU"
      }
    },
    {
      "cell_type": "code",
      "source": [
        "print(\"Calculate Seconds in a Year!\")\n",
        "\n",
        "days = 365\n",
        "hours = 24\n",
        "minutes = 60\n",
        "seconds = 60\n",
        "\n",
        "year = int(input(\"\\nEnter Year to calculate seconds: \"))\n",
        "\n",
        "total_seconds = year * days * hours * minutes * seconds\n",
        "\n",
        "print(f\"\\nThere are {total_seconds} seconds in {year} year!\")"
      ],
      "metadata": {
        "colab": {
          "base_uri": "https://localhost:8080/"
        },
        "id": "CRU_ODT-BVB8",
        "outputId": "67c6664c-5f30-4e67-d5dd-a9338ae08ba8"
      },
      "execution_count": 28,
      "outputs": [
        {
          "output_type": "stream",
          "name": "stdout",
          "text": [
            "Calculate Seconds in a Year!\n",
            "\n",
            "Enter Year to calculate seconds: 6\n",
            "\n",
            "There are 189216000 seconds in 6 year!\n"
          ]
        }
      ]
    },
    {
      "cell_type": "markdown",
      "source": [
        "Problem 8:\n",
        "\n",
        "Write a program which prompts the user for an adjective, then a noun, then a verb, and then prints a fun sentence with those words!\n",
        "\n",
        "Mad Libs is a word game where players are prompted for one word at a time, and the words are eventually filled into the blanks of a word template to make an entertaining story! We've provided you with the beginning of a sentence (the SENTENCE_START constant) which will end in a user-inputted adjective, noun, and then verb."
      ],
      "metadata": {
        "id": "G6noRO1TD9v0"
      }
    },
    {
      "cell_type": "code",
      "source": [
        "print(\"Tiny Mad Libs!\")\n",
        "\n",
        "SENTENCE_START = \"GIAIC is fun. I learned to program and used Python to make my\"\n",
        "\n",
        "adjective = input(\"\\nPlease type an adjective and press enter: \")\n",
        "\n",
        "noun = input(\"\\nPlease type a noun and press enter: \")\n",
        "\n",
        "verb = input(\"\\nPlease type a verb and press enter: \")\n",
        "\n",
        "print(f\"\\n{SENTENCE_START} {adjective} {noun} {verb}!\")\n"
      ],
      "metadata": {
        "colab": {
          "base_uri": "https://localhost:8080/"
        },
        "id": "boXduaRdEheb",
        "outputId": "11ae82a8-4fb4-440c-aafd-e10a607ce2f5"
      },
      "execution_count": 30,
      "outputs": [
        {
          "output_type": "stream",
          "name": "stdout",
          "text": [
            "Tiny Mad Libs!\n",
            "\n",
            "Please type an adjective and press enter: honest\n",
            "\n",
            "Please type a noun and press enter: islamabad\n",
            "\n",
            "Please type a verb and press enter: walking\n",
            "\n",
            "GIAIC is fun. I learned to program and used Python to make my honest islamabad walking!\n"
          ]
        }
      ]
    }
  ]
}