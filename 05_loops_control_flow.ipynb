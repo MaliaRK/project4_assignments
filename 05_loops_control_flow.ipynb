{
  "nbformat": 4,
  "nbformat_minor": 0,
  "metadata": {
    "colab": {
      "provenance": [],
      "authorship_tag": "ABX9TyNZMPqn3lchJNVb12inTbpv",
      "include_colab_link": true
    },
    "kernelspec": {
      "name": "python3",
      "display_name": "Python 3"
    },
    "language_info": {
      "name": "python"
    }
  },
  "cells": [
    {
      "cell_type": "markdown",
      "metadata": {
        "id": "view-in-github",
        "colab_type": "text"
      },
      "source": [
        "<a href=\"https://colab.research.google.com/github/MaliaRK/project4_assignments/blob/master/05_loops_control_flow.ipynb\" target=\"_parent\"><img src=\"https://colab.research.google.com/assets/colab-badge.svg\" alt=\"Open In Colab\"/></a>"
      ]
    },
    {
      "cell_type": "markdown",
      "source": [
        "Problem 1:\n",
        "\n",
        "I am thinking of a number between 0 and 99...\n"
      ],
      "metadata": {
        "id": "V_yIH-hndQT3"
      }
    },
    {
      "cell_type": "code",
      "execution_count": null,
      "metadata": {
        "id": "Ereu8mw3dPJd",
        "colab": {
          "base_uri": "https://localhost:8080/"
        },
        "outputId": "1d4f849b-d8f5-4331-e869-8ea54e8b28ec"
      },
      "outputs": [
        {
          "output_type": "stream",
          "name": "stdout",
          "text": [
            "\n",
            "🎯I am thinking of a number between 0 and 99... 🤔(You have only 7 Attempts.)\n",
            "\n",
            "type 'exit' in order to quit.\n",
            "\n",
            "\n",
            "Guess a number between 1 to 100: 54\n",
            "\n",
            "📈Too high! Try again.\n",
            "\n",
            "\n",
            "🔁Remaining Attempt: 6\n",
            "\n",
            "Guess a number between 1 to 100: 89\n",
            "\n",
            "📈Too high! Try again.\n",
            "\n",
            "\n",
            "🔁Remaining Attempt: 5\n",
            "\n",
            "Guess a number between 1 to 100: 90\n",
            "\n",
            "📈Too high! Try again.\n",
            "\n",
            "\n",
            "🔁Remaining Attempt: 4\n",
            "\n",
            "Guess a number between 1 to 100: 89\n",
            "\n",
            "📈Too high! Try again.\n",
            "\n",
            "\n",
            "🔁Remaining Attempt: 3\n",
            "\n",
            "Guess a number between 1 to 100: 99\n",
            "\n",
            "📈Too high! Try again.\n",
            "\n",
            "\n",
            "🔁Remaining Attempt: 2\n",
            "\n",
            "Guess a number between 1 to 100: 6\n",
            "\n",
            "📉Too low! Try again.\n",
            "\n",
            "\n",
            "🔁Remaining Attempt: 1\n",
            "\n",
            "Guess a number between 1 to 100: 7\n",
            "\n",
            "📉Too low! Try again.\n",
            "\n",
            "\n",
            "🔁Remaining Attempt: 0\n",
            "\n",
            "❌Sorry! You've run out of attempt. \n",
            "\n",
            "Correct number was 34.\n"
          ]
        }
      ],
      "source": [
        "import random\n",
        "\n",
        "print(f\"\\n🎯I am thinking of a number between 0 and 99... 🤔(You have only 7 Attempts.)\")\n",
        "print(\"\\ntype 'exit' in order to quit.\\n\")\n",
        "\n",
        "random_number = random.randint(1, 100)\n",
        "length = 7\n",
        "\n",
        "while length:\n",
        "  user_input = input(\"\\nGuess a number between 1 to 100: \")\n",
        "\n",
        "  if user_input.lower() == 'exit':\n",
        "    print('🚪program exited!')\n",
        "    break\n",
        "\n",
        "  try:\n",
        "    num = int(user_input)\n",
        "\n",
        "    if num < 0 or num > 100:\n",
        "      print('\\nPlease guess a number between 1 to 100\\n')\n",
        "      continue\n",
        "\n",
        "    if num == random_number:\n",
        "        print('\\n🎉Congratulations! You guessed a correct number.\\n')\n",
        "        break\n",
        "\n",
        "    elif num < random_number:\n",
        "      print('\\n📉Too low! Try again.\\n')\n",
        "    else:\n",
        "      print('\\n📈Too high! Try again.\\n')\n",
        "\n",
        "    length -= 1\n",
        "    print(f\"\\n🔁Remaining Attempt: {length}\")\n",
        "\n",
        "    if length == 0:\n",
        "      print(f\"\\n❌Sorry! You've run out of attempt. \\n\\nCorrect number was {random_number}.\")\n",
        "\n",
        "  except:\n",
        "    print('\\n🚨Invalid input\\n')\n"
      ]
    },
    {
      "cell_type": "markdown",
      "source": [
        "Problem 2:\n",
        "\n",
        "Write a program to print terms in the Fibonacci sequence up to a maximum value."
      ],
      "metadata": {
        "id": "RT1MyzI_A_uU"
      }
    },
    {
      "cell_type": "code",
      "source": [
        "maximum_value = 10000\n",
        "fib = [0, 1]\n",
        "\n",
        "\n",
        "while True:\n",
        "  next_number = sum(fib[-2:])\n",
        "  if next_number >= maximum_value:\n",
        "    break\n",
        "\n",
        "  fib.append(next_number)\n",
        "\n",
        "print(fib)"
      ],
      "metadata": {
        "colab": {
          "base_uri": "https://localhost:8080/"
        },
        "id": "VH9x55wUBw7n",
        "outputId": "c2ae08d7-1112-4606-f0e3-849e2ffe9b5e"
      },
      "execution_count": null,
      "outputs": [
        {
          "output_type": "stream",
          "name": "stdout",
          "text": [
            "[0, 1, 1, 2, 3, 5, 8, 13, 21, 34, 55, 89, 144, 233, 377, 610, 987, 1597, 2584, 4181, 6765]\n"
          ]
        }
      ]
    },
    {
      "cell_type": "markdown",
      "source": [
        "Problem 3:\n",
        "\n",
        "Write a program that prints the first 20 even numbers. There are several correct approaches, but they all use a loop of some sort. Do no write twenty print statements"
      ],
      "metadata": {
        "id": "R9Lf2YWSM47w"
      }
    },
    {
      "cell_type": "code",
      "source": [
        "even_numbers = []\n",
        "for i in range(0, 40, 2):\n",
        "  even_numbers.append(i)\n",
        "\n",
        "print(\"First 20 even numbers: \", even_numbers)"
      ],
      "metadata": {
        "colab": {
          "base_uri": "https://localhost:8080/"
        },
        "id": "0-6q1O_hN-SW",
        "outputId": "5710a3c4-2ff3-48f0-fcae-91e92d0014e1"
      },
      "execution_count": null,
      "outputs": [
        {
          "output_type": "stream",
          "name": "stdout",
          "text": [
            "First 20 even numbers:  [0, 2, 4, 6, 8, 10, 12, 14, 16, 18, 20, 22, 24, 26, 28, 30, 32, 34, 36, 38]\n"
          ]
        }
      ]
    },
    {
      "cell_type": "markdown",
      "source": [
        "Problem 4:\n",
        "\n",
        "Write a program which prompts the user to type an affirmation of your choice (we'll use \"I am capable of doing anything I put my mind to.\") until they type it correctly. Sometimes, especially in the midst of such uncertain times, we just need to be reminded that we are resilient, capable, and strong; this little Python program may be able to help!"
      ],
      "metadata": {
        "id": "_pv1Ua4zOPbe"
      }
    },
    {
      "cell_type": "code",
      "source": [
        "affirmation = \"I am capable of doing anything I put my mind to.\"\n",
        "print(f\"Affirmation: '{affirmation}'\")\n",
        "\n",
        "while True:\n",
        "  user_input = input(\"\\nType the affirmation. \")\n",
        "\n",
        "  if user_input != affirmation:\n",
        "    print(\"\\nHmmm..! That was not the affirmation. Try again:\")\n",
        "\n",
        "  else:\n",
        "    print(\"\\nThat's right..!\", user_input)\n",
        "    break"
      ],
      "metadata": {
        "colab": {
          "base_uri": "https://localhost:8080/"
        },
        "id": "txNvZFupPZ8R",
        "outputId": "7d8bd884-cfb8-4563-eeec-9c3eac87ee0c"
      },
      "execution_count": null,
      "outputs": [
        {
          "output_type": "stream",
          "name": "stdout",
          "text": [
            "Affirmation: 'I am capable of doing anything I put my mind to.'\n",
            "\n",
            "Type the affirmation. hjfjg\n",
            "\n",
            "Hmmm..! That was not the affirmation. Try again:\n",
            "\n",
            "Type the affirmation. I am capable of doing anything I put my mind to.\n",
            "\n",
            "That's right..! I am capable of doing anything I put my mind to.\n"
          ]
        }
      ]
    },
    {
      "cell_type": "markdown",
      "source": [
        "Problem 5:\n",
        "\n",
        "Write a program that prints out the calls for a spaceship that is about to launch. Countdown from 10 to 1 and then output Liftoff!"
      ],
      "metadata": {
        "id": "s4tNSph4TpPI"
      }
    },
    {
      "cell_type": "code",
      "source": [
        "for i in range(10, 0, -1):\n",
        "  print(i)\n",
        "\n",
        "print(\"Liftoff!\")"
      ],
      "metadata": {
        "colab": {
          "base_uri": "https://localhost:8080/"
        },
        "id": "mLOH3KGfUAdg",
        "outputId": "41e183f7-cc2f-4f48-fe87-9e6172d14382"
      },
      "execution_count": null,
      "outputs": [
        {
          "output_type": "stream",
          "name": "stdout",
          "text": [
            "10\n",
            "9\n",
            "8\n",
            "7\n",
            "6\n",
            "5\n",
            "4\n",
            "3\n",
            "2\n",
            "1\n",
            "Liftoff!\n"
          ]
        }
      ]
    },
    {
      "cell_type": "markdown",
      "source": [
        "Problem 6:\n",
        "\n",
        "Write a program that asks a user to enter a number. Your program will then double that number and print out the result. It will repeat that process until the value is 100 or greater."
      ],
      "metadata": {
        "id": "9kyJTH3iVU5I"
      }
    },
    {
      "cell_type": "code",
      "source": [
        "current_value = int(input(\"Enter a number: \"))\n",
        "\n",
        "while current_value < 100:\n",
        "  double_value = current_value * 2\n",
        "  print(f\"{current_value} doubled is {double_value}\")\n",
        "  current_value = double_value\n"
      ],
      "metadata": {
        "colab": {
          "base_uri": "https://localhost:8080/"
        },
        "id": "o7I6ap3mVxFR",
        "outputId": "19c907ec-7fe3-4016-8e1b-bea6229226f1"
      },
      "execution_count": 8,
      "outputs": [
        {
          "output_type": "stream",
          "name": "stdout",
          "text": [
            "Enter a number: 5\n",
            "5 doubled is 10\n",
            "10 doubled is 20\n",
            "20 doubled is 40\n",
            "40 doubled is 80\n",
            "80 doubled is 160\n"
          ]
        }
      ]
    }
  ]
}